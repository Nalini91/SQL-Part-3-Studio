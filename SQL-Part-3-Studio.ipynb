{
    "metadata": {
        "kernelspec": {
            "name": "SQL",
            "display_name": "SQL",
            "language": "sql"
        },
        "language_info": {
            "name": "sql",
            "version": ""
        },
        "extensions": {
            "azuredatastudio": {
                "version": 1,
                "views": []
            }
        }
    },
    "nbformat_minor": 2,
    "nbformat": 4,
    "cells": [
        {
            "cell_type": "markdown",
            "source": [
                "# SQL Part 3 Studio\n",
                "\n",
                "### Let's practice your SQL quering skills!  For each question, work along in the notebook adding your query and answering the questions. \n",
                "\n",
                "### **DataSet**\n",
                "\n",
                "### <span style=\"font-size: 14px; font-family: -apple-system, BlinkMacSystemFont, sans-serif;\">We will be using the Goodbooks-10k dataset from the exercises in the prep work.&nbsp; Feel free reference your previous notebooks.</span>\n",
                "\n",
                "- The dataset can be found here: [goodbooks-10k](https://www.kaggle.com/zygmunt/goodbooks-10k)\n",
                "- You can access the **BooksDB** in the Launchcode server.\n",
                "\n",
                "### **Business Issue**\n",
                "\n",
                "You are an employee at a small independet bookstore and you have been tasked to increase sales.  You decide to use the BooksDB to find books and themes to highlight in fun promotions throughout each month / season.  We will be starting with March and then you will have a chance to explore another month of your choosing.  We want to come up with a list of events/ promotions to run each month.  If you are looking for ideas to include in your promotions:\n",
                "\n",
                "- [https://www.calendarr.com/united-states/calendar-2022/](https://www.calendarr.com/united-states/calendar-2022/)\n",
                "- [https://www.holidayinsights.com/moreholidays/](https://www.holidayinsights.com/moreholidays/)\n",
                "    - Click on a month and it will take you to a more detailed page"
            ],
            "metadata": {
                "azdata_cell_guid": "b9034d8a-b631-48bf-a895-1012a6ffa784"
            },
            "attachments": {}
        },
        {
            "cell_type": "markdown",
            "source": [
                "## Part 1:  March - Women's History Month, Dr Seuss Day(3/2), National Pie Day3/14, St Patrick's Day (3/17), Season - Spring"
            ],
            "metadata": {
                "azdata_cell_guid": "6e55eb1c-4a14-4076-90d2-95ed17a6309f"
            },
            "attachments": {}
        },
        {
            "cell_type": "markdown",
            "source": [
                "### **Event 1:** Women's History Month\n",
                "\n",
                "Goal: Highlight Popular Womans Authors based on ratings from the Good Reads DB.\n",
                "\n",
                "### **Write a query that returns tag\\_id, the number of times each tag\\_id is used and the tag\\_name.**  \n",
                "\n",
                "### Use the GROUP BY and HAVING clause to narrow your focus.\n",
                "\n",
                "Try multiple keywords, ie woman vs female (female ended up giving better results)"
            ],
            "metadata": {
                "azdata_cell_guid": "d220c097-e9cf-4edd-9abe-312d071217b7"
            },
            "attachments": {}
        },
        {
            "cell_type": "code",
            "source": [
                "-- Solution\r\n",
                "SELECT bt.tag_id, t.tag_name, count(bt.tag_id) as tag_id_count\r\n",
                "FROM  BooksDB.dbo.book_tags bt \r\n",
                "INNER join  BooksDB.dbo.tags t\r\n",
                "on bt.tag_id = t.tag_id\r\n",
                "GROUP by bt.tag_id, t.tag_name\r\n",
                "HAVING \r\n",
                "t.tag_name like '%women%' \r\n",
                "-- or \r\n",
                "--t.tag_name like '%female%' \r\n",
                "--or \r\n",
                "--t.tag_name like '%girl%'\r\n",
                "\r\n",
                "ORDER BY count(bt.tag_id)  DESC\r\n",
                "\r\n",
                "\r\n",
                ""
            ],
            "metadata": {
                "azdata_cell_guid": "e31b9d26-0386-44c7-828e-85f4f06f3ee6",
                "language": "sql",
                "tags": []
            },
            "outputs": [
                {
                    "output_type": "display_data",
                    "data": {
                        "text/html": "(92 rows affected)"
                    },
                    "metadata": {}
                },
                {
                    "output_type": "display_data",
                    "data": {
                        "text/html": "Total execution time: 00:00:00.339"
                    },
                    "metadata": {}
                },
                {
                    "output_type": "execute_result",
                    "execution_count": 2,
                    "data": {
                        "application/vnd.dataresource+json": {
                            "schema": {
                                "fields": [
                                    {
                                        "name": "tag_id"
                                    },
                                    {
                                        "name": "tag_name"
                                    },
                                    {
                                        "name": "tag_id_count"
                                    }
                                ]
                            },
                            "data": [
                                {
                                    "0": "32686",
                                    "1": "women",
                                    "2": "1062"
                                },
                                {
                                    "0": "32708",
                                    "1": "women-s-fiction",
                                    "2": "438"
                                },
                                {
                                    "0": "32724",
                                    "1": "women-writers",
                                    "2": "373"
                                },
                                {
                                    "0": "32726",
                                    "1": "womens-fiction",
                                    "2": "368"
                                },
                                {
                                    "0": "32688",
                                    "1": "women-authors",
                                    "2": "324"
                                },
                                {
                                    "0": "28839",
                                    "1": "strong-women",
                                    "2": "71"
                                },
                                {
                                    "0": "32720",
                                    "1": "women-s-studies",
                                    "2": "30"
                                },
                                {
                                    "0": "32735",
                                    "1": "womens-studies",
                                    "2": "21"
                                },
                                {
                                    "0": "32732",
                                    "1": "womens-murder-club",
                                    "2": "15"
                                },
                                {
                                    "0": "32717",
                                    "1": "women-s-murder-club-series",
                                    "2": "15"
                                },
                                {
                                    "0": "32716",
                                    "1": "women-s-murder-club",
                                    "2": "15"
                                },
                                {
                                    "0": "16122",
                                    "1": "james-patterson-women-s-murder-club",
                                    "2": "15"
                                },
                                {
                                    "0": "32733",
                                    "1": "womens-murder-club-series",
                                    "2": "14"
                                },
                                {
                                    "0": "32711",
                                    "1": "women-s-issues",
                                    "2": "14"
                                },
                                {
                                    "0": "32725",
                                    "1": "womens",
                                    "2": "13"
                                },
                                {
                                    "0": "16123",
                                    "1": "james-patterson-womens-murder-club",
                                    "2": "12"
                                },
                                {
                                    "0": "32729",
                                    "1": "womens-issues",
                                    "2": "11"
                                },
                                {
                                    "0": "16121",
                                    "1": "james-patterson-women-s-murder-cl",
                                    "2": "10"
                                },
                                {
                                    "0": "32702",
                                    "1": "women-of-the-otherworld",
                                    "2": "9"
                                },
                                {
                                    "0": "32703",
                                    "1": "women-of-the-otherworld-series",
                                    "2": "8"
                                },
                                {
                                    "0": "5129",
                                    "1": "books-by-women",
                                    "2": "7"
                                },
                                {
                                    "0": "7195",
                                    "1": "christian-women",
                                    "2": "7"
                                },
                                {
                                    "0": "27324",
                                    "1": "series-women-of-the-otherworld",
                                    "2": "6"
                                },
                                {
                                    "0": "32721",
                                    "1": "women-studies",
                                    "2": "6"
                                },
                                {
                                    "0": "32719",
                                    "1": "women-s-rights",
                                    "2": "6"
                                },
                                {
                                    "0": "32698",
                                    "1": "women-murder-club",
                                    "2": "6"
                                },
                                {
                                    "0": "32710",
                                    "1": "women-s-history",
                                    "2": "6"
                                },
                                {
                                    "0": "32704",
                                    "1": "women-of-the-underworld",
                                    "2": "6"
                                },
                                {
                                    "0": "25408",
                                    "1": "readwomen2014",
                                    "2": "5"
                                },
                                {
                                    "0": "32706",
                                    "1": "women-s",
                                    "2": "5"
                                },
                                {
                                    "0": "32712",
                                    "1": "women-s-lit",
                                    "2": "5"
                                },
                                {
                                    "0": "12328",
                                    "1": "for-women",
                                    "2": "5"
                                },
                                {
                                    "0": "1149",
                                    "1": "500-women",
                                    "2": "5"
                                },
                                {
                                    "0": "18423",
                                    "1": "little-women",
                                    "2": "4"
                                },
                                {
                                    "0": "6038",
                                    "1": "by-women",
                                    "2": "4"
                                },
                                {
                                    "0": "4603",
                                    "1": "biographies-of-women",
                                    "2": "4"
                                },
                                {
                                    "0": "32718",
                                    "1": "women-s-prize-for-fiction",
                                    "2": "3"
                                },
                                {
                                    "0": "32695",
                                    "1": "women-in-translation",
                                    "2": "3"
                                },
                                {
                                    "0": "32730",
                                    "1": "womens-lit",
                                    "2": "3"
                                },
                                {
                                    "0": "32709",
                                    "1": "women-s-health",
                                    "2": "2"
                                },
                                {
                                    "0": "32700",
                                    "1": "women-of-color",
                                    "2": "2"
                                },
                                {
                                    "0": "32692",
                                    "1": "women-friends",
                                    "2": "2"
                                },
                                {
                                    "0": "32691",
                                    "1": "women-fiction",
                                    "2": "2"
                                },
                                {
                                    "0": "32690",
                                    "1": "women-feminism",
                                    "2": "2"
                                },
                                {
                                    "0": "12694",
                                    "1": "funny-women",
                                    "2": "2"
                                },
                                {
                                    "0": "13810",
                                    "1": "gutsy-women",
                                    "2": "2"
                                },
                                {
                                    "0": "452",
                                    "1": "1960s-women-s-status",
                                    "2": "1"
                                },
                                {
                                    "0": "32734",
                                    "1": "womens-stories",
                                    "2": "1"
                                },
                                {
                                    "0": "891",
                                    "1": "2017-read-women",
                                    "2": "1"
                                },
                                {
                                    "0": "1082",
                                    "1": "4-women-intertwined-stories",
                                    "2": "1"
                                },
                                {
                                    "0": "32731",
                                    "1": "womens-lit-to-read",
                                    "2": "1"
                                },
                                {
                                    "0": "1503",
                                    "1": "abused-women",
                                    "2": "1"
                                },
                                {
                                    "0": "2824",
                                    "1": "arab-women",
                                    "2": "1"
                                },
                                {
                                    "0": "32728",
                                    "1": "womens-health",
                                    "2": "1"
                                },
                                {
                                    "0": "32727",
                                    "1": "womens-fiction-chick-lit",
                                    "2": "1"
                                },
                                {
                                    "0": "3162",
                                    "1": "artist-women-bio",
                                    "2": "1"
                                },
                                {
                                    "0": "3476",
                                    "1": "australian-women-writers",
                                    "2": "1"
                                },
                                {
                                    "0": "4622",
                                    "1": "biography-women",
                                    "2": "1"
                                },
                                {
                                    "0": "32723",
                                    "1": "women-write-big-books",
                                    "2": "1"
                                },
                                {
                                    "0": "32722",
                                    "1": "women-words-wine",
                                    "2": "1"
                                },
                                {
                                    "0": "6267",
                                    "1": "career-women",
                                    "2": "1"
                                },
                                {
                                    "0": "7033",
                                    "1": "chinese-women",
                                    "2": "1"
                                },
                                {
                                    "0": "7332",
                                    "1": "cis-women",
                                    "2": "1"
                                },
                                {
                                    "0": "10308",
                                    "1": "education-for-women",
                                    "2": "1"
                                },
                                {
                                    "0": "12601",
                                    "1": "friendship-women",
                                    "2": "1"
                                },
                                {
                                    "0": "32715",
                                    "1": "women-s-murder",
                                    "2": "1"
                                },
                                {
                                    "0": "32714",
                                    "1": "women-s-ministry",
                                    "2": "1"
                                },
                                {
                                    "0": "32713",
                                    "1": "women-s-literature",
                                    "2": "1"
                                },
                                {
                                    "0": "14494",
                                    "1": "historical-fiction-civil-war-women",
                                    "2": "1"
                                },
                                {
                                    "0": "15869",
                                    "1": "islamic-women",
                                    "2": "1"
                                },
                                {
                                    "0": "19771",
                                    "1": "men-women",
                                    "2": "1"
                                },
                                {
                                    "0": "19772",
                                    "1": "men-women-relations",
                                    "2": "1"
                                },
                                {
                                    "0": "32707",
                                    "1": "women-s-bible-study",
                                    "2": "1"
                                },
                                {
                                    "0": "20722",
                                    "1": "muslim-women",
                                    "2": "1"
                                },
                                {
                                    "0": "32705",
                                    "1": "women-read",
                                    "2": "1"
                                },
                                {
                                    "0": "22740",
                                    "1": "own-written-by-women",
                                    "2": "1"
                                },
                                {
                                    "0": "23124",
                                    "1": "patterson-women-s-murder-club",
                                    "2": "1"
                                },
                                {
                                    "0": "23125",
                                    "1": "patterson-womens-murder-club",
                                    "2": "1"
                                },
                                {
                                    "0": "32701",
                                    "1": "women-of-faith",
                                    "2": "1"
                                },
                                {
                                    "0": "23672",
                                    "1": "pioneer-women",
                                    "2": "1"
                                },
                                {
                                    "0": "32699",
                                    "1": "women-of-a-certain-age",
                                    "2": "1"
                                },
                                {
                                    "0": "23892",
                                    "1": "policewomen",
                                    "2": "1"
                                },
                                {
                                    "0": "32697",
                                    "1": "women-literature",
                                    "2": "1"
                                },
                                {
                                    "0": "32696",
                                    "1": "women-in-war",
                                    "2": "1"
                                },
                                {
                                    "0": "25409",
                                    "1": "readwomen2016",
                                    "2": "1"
                                },
                                {
                                    "0": "32694",
                                    "1": "women-in-medicine",
                                    "2": "1"
                                },
                                {
                                    "0": "32693",
                                    "1": "women-friendships",
                                    "2": "1"
                                },
                                {
                                    "0": "27325",
                                    "1": "series-womens-murder-club",
                                    "2": "1"
                                },
                                {
                                    "0": "27824",
                                    "1": "single-women",
                                    "2": "1"
                                },
                                {
                                    "0": "29914",
                                    "1": "the-life-of-women-in-royal-family-o",
                                    "2": "1"
                                },
                                {
                                    "0": "32689",
                                    "1": "women-entrepeneurs",
                                    "2": "1"
                                },
                                {
                                    "0": "32687",
                                    "1": "women-and-religion",
                                    "2": "1"
                                }
                            ]
                        },
                        "text/html": "<table><tr><th>tag_id</th><th>tag_name</th><th>tag_id_count</th></tr><tr><td>32686</td><td>women</td><td>1062</td></tr><tr><td>32708</td><td>women-s-fiction</td><td>438</td></tr><tr><td>32724</td><td>women-writers</td><td>373</td></tr><tr><td>32726</td><td>womens-fiction</td><td>368</td></tr><tr><td>32688</td><td>women-authors</td><td>324</td></tr><tr><td>28839</td><td>strong-women</td><td>71</td></tr><tr><td>32720</td><td>women-s-studies</td><td>30</td></tr><tr><td>32735</td><td>womens-studies</td><td>21</td></tr><tr><td>32732</td><td>womens-murder-club</td><td>15</td></tr><tr><td>32717</td><td>women-s-murder-club-series</td><td>15</td></tr><tr><td>32716</td><td>women-s-murder-club</td><td>15</td></tr><tr><td>16122</td><td>james-patterson-women-s-murder-club</td><td>15</td></tr><tr><td>32733</td><td>womens-murder-club-series</td><td>14</td></tr><tr><td>32711</td><td>women-s-issues</td><td>14</td></tr><tr><td>32725</td><td>womens</td><td>13</td></tr><tr><td>16123</td><td>james-patterson-womens-murder-club</td><td>12</td></tr><tr><td>32729</td><td>womens-issues</td><td>11</td></tr><tr><td>16121</td><td>james-patterson-women-s-murder-cl</td><td>10</td></tr><tr><td>32702</td><td>women-of-the-otherworld</td><td>9</td></tr><tr><td>32703</td><td>women-of-the-otherworld-series</td><td>8</td></tr><tr><td>5129</td><td>books-by-women</td><td>7</td></tr><tr><td>7195</td><td>christian-women</td><td>7</td></tr><tr><td>27324</td><td>series-women-of-the-otherworld</td><td>6</td></tr><tr><td>32721</td><td>women-studies</td><td>6</td></tr><tr><td>32719</td><td>women-s-rights</td><td>6</td></tr><tr><td>32698</td><td>women-murder-club</td><td>6</td></tr><tr><td>32710</td><td>women-s-history</td><td>6</td></tr><tr><td>32704</td><td>women-of-the-underworld</td><td>6</td></tr><tr><td>25408</td><td>readwomen2014</td><td>5</td></tr><tr><td>32706</td><td>women-s</td><td>5</td></tr><tr><td>32712</td><td>women-s-lit</td><td>5</td></tr><tr><td>12328</td><td>for-women</td><td>5</td></tr><tr><td>1149</td><td>500-women</td><td>5</td></tr><tr><td>18423</td><td>little-women</td><td>4</td></tr><tr><td>6038</td><td>by-women</td><td>4</td></tr><tr><td>4603</td><td>biographies-of-women</td><td>4</td></tr><tr><td>32718</td><td>women-s-prize-for-fiction</td><td>3</td></tr><tr><td>32695</td><td>women-in-translation</td><td>3</td></tr><tr><td>32730</td><td>womens-lit</td><td>3</td></tr><tr><td>32709</td><td>women-s-health</td><td>2</td></tr><tr><td>32700</td><td>women-of-color</td><td>2</td></tr><tr><td>32692</td><td>women-friends</td><td>2</td></tr><tr><td>32691</td><td>women-fiction</td><td>2</td></tr><tr><td>32690</td><td>women-feminism</td><td>2</td></tr><tr><td>12694</td><td>funny-women</td><td>2</td></tr><tr><td>13810</td><td>gutsy-women</td><td>2</td></tr><tr><td>452</td><td>1960s-women-s-status</td><td>1</td></tr><tr><td>32734</td><td>womens-stories</td><td>1</td></tr><tr><td>891</td><td>2017-read-women</td><td>1</td></tr><tr><td>1082</td><td>4-women-intertwined-stories</td><td>1</td></tr><tr><td>32731</td><td>womens-lit-to-read</td><td>1</td></tr><tr><td>1503</td><td>abused-women</td><td>1</td></tr><tr><td>2824</td><td>arab-women</td><td>1</td></tr><tr><td>32728</td><td>womens-health</td><td>1</td></tr><tr><td>32727</td><td>womens-fiction-chick-lit</td><td>1</td></tr><tr><td>3162</td><td>artist-women-bio</td><td>1</td></tr><tr><td>3476</td><td>australian-women-writers</td><td>1</td></tr><tr><td>4622</td><td>biography-women</td><td>1</td></tr><tr><td>32723</td><td>women-write-big-books</td><td>1</td></tr><tr><td>32722</td><td>women-words-wine</td><td>1</td></tr><tr><td>6267</td><td>career-women</td><td>1</td></tr><tr><td>7033</td><td>chinese-women</td><td>1</td></tr><tr><td>7332</td><td>cis-women</td><td>1</td></tr><tr><td>10308</td><td>education-for-women</td><td>1</td></tr><tr><td>12601</td><td>friendship-women</td><td>1</td></tr><tr><td>32715</td><td>women-s-murder</td><td>1</td></tr><tr><td>32714</td><td>women-s-ministry</td><td>1</td></tr><tr><td>32713</td><td>women-s-literature</td><td>1</td></tr><tr><td>14494</td><td>historical-fiction-civil-war-women</td><td>1</td></tr><tr><td>15869</td><td>islamic-women</td><td>1</td></tr><tr><td>19771</td><td>men-women</td><td>1</td></tr><tr><td>19772</td><td>men-women-relations</td><td>1</td></tr><tr><td>32707</td><td>women-s-bible-study</td><td>1</td></tr><tr><td>20722</td><td>muslim-women</td><td>1</td></tr><tr><td>32705</td><td>women-read</td><td>1</td></tr><tr><td>22740</td><td>own-written-by-women</td><td>1</td></tr><tr><td>23124</td><td>patterson-women-s-murder-club</td><td>1</td></tr><tr><td>23125</td><td>patterson-womens-murder-club</td><td>1</td></tr><tr><td>32701</td><td>women-of-faith</td><td>1</td></tr><tr><td>23672</td><td>pioneer-women</td><td>1</td></tr><tr><td>32699</td><td>women-of-a-certain-age</td><td>1</td></tr><tr><td>23892</td><td>policewomen</td><td>1</td></tr><tr><td>32697</td><td>women-literature</td><td>1</td></tr><tr><td>32696</td><td>women-in-war</td><td>1</td></tr><tr><td>25409</td><td>readwomen2016</td><td>1</td></tr><tr><td>32694</td><td>women-in-medicine</td><td>1</td></tr><tr><td>32693</td><td>women-friendships</td><td>1</td></tr><tr><td>27325</td><td>series-womens-murder-club</td><td>1</td></tr><tr><td>27824</td><td>single-women</td><td>1</td></tr><tr><td>29914</td><td>the-life-of-women-in-royal-family-o</td><td>1</td></tr><tr><td>32689</td><td>women-entrepeneurs</td><td>1</td></tr><tr><td>32687</td><td>women-and-religion</td><td>1</td></tr></table>"
                    },
                    "metadata": {}
                }
            ],
            "execution_count": 2
        },
        {
            "cell_type": "markdown",
            "source": [
                "### **Which keyword(s) and tag(s) would you like to explore more?**\n",
                "I would like explore the books which contain words like women  and I selected tag-id's 32724, 32729,32724,32726,32688"
            ],
            "metadata": {
                "azdata_cell_guid": "e9acd8b5-a62b-4ac0-bd07-19915b379ba6"
            },
            "attachments": {}
        },
        {
            "cell_type": "markdown",
            "source": [
                "### **Write a query to return authors, titles, ratings and** **selected tag(s)\\_id.**"
            ],
            "metadata": {
                "azdata_cell_guid": "59b84464-c0bc-4dac-9e02-0c803765b063"
            },
            "attachments": {}
        },
        {
            "cell_type": "code",
            "source": [
                "-- Solution\r\n",
                "SELECT \r\n",
                "distinct \r\n",
                "--b.book_id,\r\n",
                "b.authors, b.title,\r\n",
                "b.average_rating\r\n",
                "--,bt.tag_id\r\n",
                "--b.ratings_1,b.ratings_2,b.ratings_3,b.ratings_4,b.ratings_5\r\n",
                "--,r.rating, r.book_id\r\n",
                " from booksDb.dbo.books b\r\n",
                " INNER JOIN BooksDB.dbo.book_tags bt\r\n",
                " on b.book_id = bt.goodreads_book_id\r\n",
                " INNER JOIN BooksDB.dbo.ratings r\r\n",
                " on b.book_id = r.book_id\r\n",
                " WHERE bt.tag_id in (32724, 32729,32724,32726,32688)\r\n",
                " ORDER BY b.title\r\n",
                ""
            ],
            "metadata": {
                "azdata_cell_guid": "51ffeaaf-6dde-4906-95f3-eb8757babf27",
                "tags": [],
                "language": "sql"
            },
            "outputs": [
                {
                    "output_type": "display_data",
                    "data": {
                        "text/html": "(85 rows affected)"
                    },
                    "metadata": {}
                },
                {
                    "output_type": "display_data",
                    "data": {
                        "text/html": "Total execution time: 00:00:00.387"
                    },
                    "metadata": {}
                },
                {
                    "output_type": "execute_result",
                    "execution_count": 5,
                    "data": {
                        "application/vnd.dataresource+json": {
                            "schema": {
                                "fields": [
                                    {
                                        "name": "authors"
                                    },
                                    {
                                        "name": "title"
                                    },
                                    {
                                        "name": "average_rating"
                                    }
                                ]
                            },
                            "data": [
                                {
                                    "0": "Jane Hamilton, Frank  Muller, C.J. Critt",
                                    "1": "A Map of the World",
                                    "2": "3.78"
                                },
                                {
                                    "0": "Lorraine Hansberry",
                                    "1": "A Raisin in the Sun",
                                    "2": "3.72"
                                },
                                {
                                    "0": "Barbara Taylor Bradford",
                                    "1": "A Woman of Substance (Emma Harte Saga #1)",
                                    "2": "4.16"
                                },
                                {
                                    "0": "Sena Jeter Naslund",
                                    "1": "Ahab's Wife, or The Star-Gazer",
                                    "2": "4.02"
                                },
                                {
                                    "0": "Sarah Vowell",
                                    "1": "Assassination Vacation",
                                    "2": "3.98"
                                },
                                {
                                    "0": "Toni Morrison",
                                    "1": "Beloved",
                                    "2": "3.77"
                                },
                                {
                                    "0": "Anna Quindlen",
                                    "1": "Black and Blue",
                                    "2": "3.86"
                                },
                                {
                                    "0": "Edwidge Danticat",
                                    "1": "Breath, Eyes, Memory",
                                    "2": "3.86"
                                },
                                {
                                    "0": "Annie Proulx",
                                    "1": "Brokeback Mountain",
                                    "2": "3.93"
                                },
                                {
                                    "0": "Sophie Kinsella",
                                    "1": "Confessions of a Shopaholic (Shopaholic, #1)",
                                    "2": "3.61"
                                },
                                {
                                    "0": "George Eliot, Edmund White",
                                    "1": "Daniel Deronda",
                                    "2": "3.82"
                                },
                                {
                                    "0": "Anne Tyler",
                                    "1": "Digging to America",
                                    "2": "3.53"
                                },
                                {
                                    "0": "Marjane Satrapi, Anjali Singh",
                                    "1": "Embroideries",
                                    "2": "3.82"
                                },
                                {
                                    "0": "L.M. Montgomery",
                                    "1": "Emily of New Moon (Emily, #1)",
                                    "2": "4.09"
                                },
                                {
                                    "0": "Edith Wharton",
                                    "1": "Ethan Frome",
                                    "2": "3.35"
                                },
                                {
                                    "0": "Tracy Chevalier",
                                    "1": "Falling Angels",
                                    "2": "3.55"
                                },
                                {
                                    "0": "Erica Jong",
                                    "1": "Fear of Flying",
                                    "2": "3.44"
                                },
                                {
                                    "0": "Loung Ung",
                                    "1": "First They Killed My Father: A Daughter of Cambodia Remembers",
                                    "2": "4.29"
                                },
                                {
                                    "0": "Candace Bushnell",
                                    "1": "Four Blondes",
                                    "2": "2.8"
                                },
                                {
                                    "0": "Fannie Flagg",
                                    "1": "Fried Green Tomatoes at the Whistle Stop Cafe",
                                    "2": "4.26"
                                },
                                {
                                    "0": "Tracy Chevalier",
                                    "1": "Girl with a Pearl Earring",
                                    "2": "3.85"
                                },
                                {
                                    "0": "Alice Hoffman",
                                    "1": "Here on Earth",
                                    "2": "3.68"
                                },
                                {
                                    "0": "Sarah Macdonald",
                                    "1": "Holy Cow: An Indian Adventure",
                                    "2": "3.51"
                                },
                                {
                                    "0": "Nora Ephron",
                                    "1": "I Feel Bad about My Neck: And Other Thoughts on Being a Woman",
                                    "2": "3.65"
                                },
                                {
                                    "0": "Amy Sedaris",
                                    "1": "I Like You: Hospitality Under the Influence",
                                    "2": "3.87"
                                },
                                {
                                    "0": "Isabel Allende, Margaret Sayers Peden",
                                    "1": "Inés of My Soul",
                                    "2": "3.9"
                                },
                                {
                                    "0": "Jhumpa Lahiri",
                                    "1": "Interpreter of Maladies",
                                    "2": "4.12"
                                },
                                {
                                    "0": "Marian Keyes",
                                    "1": "Last Chance Saloon",
                                    "2": "3.78"
                                },
                                {
                                    "0": "Laura Esquivel, Thomas  Christensen, Carol Christensen",
                                    "1": "Like Water for Chocolate",
                                    "2": "3.94"
                                },
                                {
                                    "0": "Candace Bushnell",
                                    "1": "Lipstick Jungle",
                                    "2": "3.39"
                                },
                                {
                                    "0": "Rebecca Wells",
                                    "1": "Little Altars Everywhere",
                                    "2": "3.55"
                                },
                                {
                                    "0": "Marian Keyes",
                                    "1": "Lucy Sullivan Is Getting Married",
                                    "2": "3.74"
                                },
                                {
                                    "0": "Nicholas Sparks",
                                    "1": "Message in a Bottle",
                                    "2": "3.95"
                                },
                                {
                                    "0": "Melinda Haynes",
                                    "1": "Mother of Pearl",
                                    "2": "3.67"
                                },
                                {
                                    "0": "Julia Child, Alex Prud'Homme",
                                    "1": "My Life in France",
                                    "2": "4.16"
                                },
                                {
                                    "0": "Barbara Ehrenreich",
                                    "1": "Nickel and Dimed: On (Not) Getting By in America",
                                    "2": "3.6"
                                },
                                {
                                    "0": "Helen Fielding",
                                    "1": "Olivia Joules and the Overactive Imagination",
                                    "2": "3.1"
                                },
                                {
                                    "0": "Zadie Smith",
                                    "1": "On Beauty",
                                    "2": "3.68"
                                },
                                {
                                    "0": "Elizabeth Berg",
                                    "1": "Open House",
                                    "2": "3.68"
                                },
                                {
                                    "0": "Toni Morrison",
                                    "1": "Paradise",
                                    "2": "3.77"
                                },
                                {
                                    "0": "Jacqueline Winspear",
                                    "1": "Pardonable Lies (Maisie Dobbs, #3)",
                                    "2": "4.09"
                                },
                                {
                                    "0": "Marjane Satrapi",
                                    "1": "Persepolis, Volume 1",
                                    "2": "4.27"
                                },
                                {
                                    "0": "Marjane Satrapi, Mattias Ripa",
                                    "1": "Persepolis: The Story of a Childhood (Persepolis, #1)",
                                    "2": "4.23"
                                },
                                {
                                    "0": "Joan Didion, David Thomson",
                                    "1": "Play It as It Lays",
                                    "2": "3.86"
                                },
                                {
                                    "0": "Marian Keyes",
                                    "1": "Rachel's Holiday (Walsh Family, #2)",
                                    "2": "3.93"
                                },
                                {
                                    "0": "Pat Barker",
                                    "1": "Regeneration (Regeneration, #1)",
                                    "2": "4.03"
                                },
                                {
                                    "0": "Amy Tan",
                                    "1": "Saving Fish from Drowning",
                                    "2": "3.41"
                                },
                                {
                                    "0": "Candace Bushnell",
                                    "1": "Sex and the City",
                                    "2": "3.37"
                                },
                                {
                                    "0": "Sophie Kinsella",
                                    "1": "Shopaholic and Sister (Shopaholic, #4)",
                                    "2": "3.64"
                                },
                                {
                                    "0": "Sophie Kinsella",
                                    "1": "Shopaholic Takes Manhattan (Shopaholic, #2)",
                                    "2": "3.75"
                                },
                                {
                                    "0": "Sophie Kinsella",
                                    "1": "Shopaholic Ties the Knot (Shopaholic, #3)",
                                    "2": "3.77"
                                },
                                {
                                    "0": "Joan Didion",
                                    "1": "Slouching Towards Bethlehem",
                                    "2": "4.24"
                                },
                                {
                                    "0": "Marisha Pessl",
                                    "1": "Special Topics in Calamity Physics",
                                    "2": "3.7"
                                },
                                {
                                    "0": "James Patterson",
                                    "1": "Suzanne's Diary for Nicholas",
                                    "2": "4.16"
                                },
                                {
                                    "0": "Maeve Binchy",
                                    "1": "Tara Road",
                                    "2": "3.88"
                                },
                                {
                                    "0": "Zadie Smith",
                                    "1": "The Autograph Man",
                                    "2": "3.14"
                                },
                                {
                                    "0": "Sylvia Plath",
                                    "1": "The Bell Jar",
                                    "2": "3.98"
                                },
                                {
                                    "0": "Åsne Seierstad, Ingrid Christopherson",
                                    "1": "The Bookseller of Kabul",
                                    "2": "3.76"
                                },
                                {
                                    "0": "Jacquelyn Mitchard",
                                    "1": "The Deep End of the Ocean (Cappadora Family, #1)",
                                    "2": "3.84"
                                },
                                {
                                    "0": "Lauren Weisberger",
                                    "1": "The Devil Wears Prada (The Devil Wears Prada, #1)",
                                    "2": "3.7"
                                },
                                {
                                    "0": "Zilpha Keatley Snyder",
                                    "1": "The Egypt Game (Game, #1)",
                                    "2": "3.81"
                                },
                                {
                                    "0": "Claire Messud",
                                    "1": "The Emperor's Children",
                                    "2": "2.93"
                                },
                                {
                                    "0": "Laura Ingalls Wilder, Garth Williams",
                                    "1": "The First Four Years  (Little House, #9)",
                                    "2": "3.88"
                                },
                                {
                                    "0": "Arundhati Roy",
                                    "1": "The God of Small Things",
                                    "2": "3.91"
                                },
                                {
                                    "0": "Isabel Allende, Magda Bogin",
                                    "1": "The House of the Spirits",
                                    "2": "4.2"
                                },
                                {
                                    "0": "Karen Joy Fowler",
                                    "1": "The Jane Austen Book Club",
                                    "2": "3.07"
                                },
                                {
                                    "0": "Amy Tan",
                                    "1": "The Joy Luck Club",
                                    "2": "3.9"
                                },
                                {
                                    "0": "Marguerite Duras, Barbara Bray, Maxine Hong Kingston",
                                    "1": "The Lover",
                                    "2": "3.76"
                                },
                                {
                                    "0": "Sue Monk Kidd",
                                    "1": "The Mermaid Chair",
                                    "2": "3.1"
                                },
                                {
                                    "0": "Anita Shreve",
                                    "1": "The Pilot's Wife",
                                    "2": "3.5"
                                },
                                {
                                    "0": "Anita Diamant",
                                    "1": "The Red Tent",
                                    "2": "4.16"
                                },
                                {
                                    "0": "Nicholas Sparks",
                                    "1": "The Rescue",
                                    "2": "4.1"
                                },
                                {
                                    "0": "Annie Proulx",
                                    "1": "The Shipping News",
                                    "2": "3.83"
                                },
                                {
                                    "0": "Isabel Allende",
                                    "1": "The Stories of Eva Luna",
                                    "2": "3.96"
                                },
                                {
                                    "0": "Ann-Marie MacDonald",
                                    "1": "The Way the Crow Flies",
                                    "2": "4.08"
                                },
                                {
                                    "0": "Nicholas Sparks",
                                    "1": "The Wedding (The Notebook, #2)",
                                    "2": "3.98"
                                },
                                {
                                    "0": "Joan Didion",
                                    "1": "The Year of Magical Thinking",
                                    "2": "3.86"
                                },
                                {
                                    "0": "Ann Patchett",
                                    "1": "Truth and Beauty",
                                    "2": "3.94"
                                },
                                {
                                    "0": "Marian Keyes",
                                    "1": "Watermelon (Walsh Family, #1)",
                                    "2": "3.79"
                                },
                                {
                                    "0": "Beryl Markham",
                                    "1": "West with the Night",
                                    "2": "4.18"
                                },
                                {
                                    "0": "Pearl Cleage",
                                    "1": "What Looks Like Crazy on an Ordinary Day (Idlewild, #1)",
                                    "2": "3.7"
                                },
                                {
                                    "0": "Billie Letts",
                                    "1": "Where the Heart Is",
                                    "2": "4"
                                },
                                {
                                    "0": "Sue Miller",
                                    "1": "While I Was Gone",
                                    "2": "3.67"
                                },
                                {
                                    "0": "Zadie Smith",
                                    "1": "White Teeth",
                                    "2": "3.75"
                                },
                                {
                                    "0": "Geraldine Brooks",
                                    "1": "Year of Wonders",
                                    "2": "4"
                                }
                            ]
                        },
                        "text/html": "<table><tr><th>authors</th><th>title</th><th>average_rating</th></tr><tr><td>Jane Hamilton, Frank  Muller, C.J. Critt</td><td>A Map of the World</td><td>3.78</td></tr><tr><td>Lorraine Hansberry</td><td>A Raisin in the Sun</td><td>3.72</td></tr><tr><td>Barbara Taylor Bradford</td><td>A Woman of Substance (Emma Harte Saga #1)</td><td>4.16</td></tr><tr><td>Sena Jeter Naslund</td><td>Ahab's Wife, or The Star-Gazer</td><td>4.02</td></tr><tr><td>Sarah Vowell</td><td>Assassination Vacation</td><td>3.98</td></tr><tr><td>Toni Morrison</td><td>Beloved</td><td>3.77</td></tr><tr><td>Anna Quindlen</td><td>Black and Blue</td><td>3.86</td></tr><tr><td>Edwidge Danticat</td><td>Breath, Eyes, Memory</td><td>3.86</td></tr><tr><td>Annie Proulx</td><td>Brokeback Mountain</td><td>3.93</td></tr><tr><td>Sophie Kinsella</td><td>Confessions of a Shopaholic (Shopaholic, #1)</td><td>3.61</td></tr><tr><td>George Eliot, Edmund White</td><td>Daniel Deronda</td><td>3.82</td></tr><tr><td>Anne Tyler</td><td>Digging to America</td><td>3.53</td></tr><tr><td>Marjane Satrapi, Anjali Singh</td><td>Embroideries</td><td>3.82</td></tr><tr><td>L.M. Montgomery</td><td>Emily of New Moon (Emily, #1)</td><td>4.09</td></tr><tr><td>Edith Wharton</td><td>Ethan Frome</td><td>3.35</td></tr><tr><td>Tracy Chevalier</td><td>Falling Angels</td><td>3.55</td></tr><tr><td>Erica Jong</td><td>Fear of Flying</td><td>3.44</td></tr><tr><td>Loung Ung</td><td>First They Killed My Father: A Daughter of Cambodia Remembers</td><td>4.29</td></tr><tr><td>Candace Bushnell</td><td>Four Blondes</td><td>2.8</td></tr><tr><td>Fannie Flagg</td><td>Fried Green Tomatoes at the Whistle Stop Cafe</td><td>4.26</td></tr><tr><td>Tracy Chevalier</td><td>Girl with a Pearl Earring</td><td>3.85</td></tr><tr><td>Alice Hoffman</td><td>Here on Earth</td><td>3.68</td></tr><tr><td>Sarah Macdonald</td><td>Holy Cow: An Indian Adventure</td><td>3.51</td></tr><tr><td>Nora Ephron</td><td>I Feel Bad about My Neck: And Other Thoughts on Being a Woman</td><td>3.65</td></tr><tr><td>Amy Sedaris</td><td>I Like You: Hospitality Under the Influence</td><td>3.87</td></tr><tr><td>Isabel Allende, Margaret Sayers Peden</td><td>Inés of My Soul</td><td>3.9</td></tr><tr><td>Jhumpa Lahiri</td><td>Interpreter of Maladies</td><td>4.12</td></tr><tr><td>Marian Keyes</td><td>Last Chance Saloon</td><td>3.78</td></tr><tr><td>Laura Esquivel, Thomas  Christensen, Carol Christensen</td><td>Like Water for Chocolate</td><td>3.94</td></tr><tr><td>Candace Bushnell</td><td>Lipstick Jungle</td><td>3.39</td></tr><tr><td>Rebecca Wells</td><td>Little Altars Everywhere</td><td>3.55</td></tr><tr><td>Marian Keyes</td><td>Lucy Sullivan Is Getting Married</td><td>3.74</td></tr><tr><td>Nicholas Sparks</td><td>Message in a Bottle</td><td>3.95</td></tr><tr><td>Melinda Haynes</td><td>Mother of Pearl</td><td>3.67</td></tr><tr><td>Julia Child, Alex Prud'Homme</td><td>My Life in France</td><td>4.16</td></tr><tr><td>Barbara Ehrenreich</td><td>Nickel and Dimed: On (Not) Getting By in America</td><td>3.6</td></tr><tr><td>Helen Fielding</td><td>Olivia Joules and the Overactive Imagination</td><td>3.1</td></tr><tr><td>Zadie Smith</td><td>On Beauty</td><td>3.68</td></tr><tr><td>Elizabeth Berg</td><td>Open House</td><td>3.68</td></tr><tr><td>Toni Morrison</td><td>Paradise</td><td>3.77</td></tr><tr><td>Jacqueline Winspear</td><td>Pardonable Lies (Maisie Dobbs, #3)</td><td>4.09</td></tr><tr><td>Marjane Satrapi</td><td>Persepolis, Volume 1</td><td>4.27</td></tr><tr><td>Marjane Satrapi, Mattias Ripa</td><td>Persepolis: The Story of a Childhood (Persepolis, #1)</td><td>4.23</td></tr><tr><td>Joan Didion, David Thomson</td><td>Play It as It Lays</td><td>3.86</td></tr><tr><td>Marian Keyes</td><td>Rachel's Holiday (Walsh Family, #2)</td><td>3.93</td></tr><tr><td>Pat Barker</td><td>Regeneration (Regeneration, #1)</td><td>4.03</td></tr><tr><td>Amy Tan</td><td>Saving Fish from Drowning</td><td>3.41</td></tr><tr><td>Candace Bushnell</td><td>Sex and the City</td><td>3.37</td></tr><tr><td>Sophie Kinsella</td><td>Shopaholic and Sister (Shopaholic, #4)</td><td>3.64</td></tr><tr><td>Sophie Kinsella</td><td>Shopaholic Takes Manhattan (Shopaholic, #2)</td><td>3.75</td></tr><tr><td>Sophie Kinsella</td><td>Shopaholic Ties the Knot (Shopaholic, #3)</td><td>3.77</td></tr><tr><td>Joan Didion</td><td>Slouching Towards Bethlehem</td><td>4.24</td></tr><tr><td>Marisha Pessl</td><td>Special Topics in Calamity Physics</td><td>3.7</td></tr><tr><td>James Patterson</td><td>Suzanne's Diary for Nicholas</td><td>4.16</td></tr><tr><td>Maeve Binchy</td><td>Tara Road</td><td>3.88</td></tr><tr><td>Zadie Smith</td><td>The Autograph Man</td><td>3.14</td></tr><tr><td>Sylvia Plath</td><td>The Bell Jar</td><td>3.98</td></tr><tr><td>Åsne Seierstad, Ingrid Christopherson</td><td>The Bookseller of Kabul</td><td>3.76</td></tr><tr><td>Jacquelyn Mitchard</td><td>The Deep End of the Ocean (Cappadora Family, #1)</td><td>3.84</td></tr><tr><td>Lauren Weisberger</td><td>The Devil Wears Prada (The Devil Wears Prada, #1)</td><td>3.7</td></tr><tr><td>Zilpha Keatley Snyder</td><td>The Egypt Game (Game, #1)</td><td>3.81</td></tr><tr><td>Claire Messud</td><td>The Emperor's Children</td><td>2.93</td></tr><tr><td>Laura Ingalls Wilder, Garth Williams</td><td>The First Four Years  (Little House, #9)</td><td>3.88</td></tr><tr><td>Arundhati Roy</td><td>The God of Small Things</td><td>3.91</td></tr><tr><td>Isabel Allende, Magda Bogin</td><td>The House of the Spirits</td><td>4.2</td></tr><tr><td>Karen Joy Fowler</td><td>The Jane Austen Book Club</td><td>3.07</td></tr><tr><td>Amy Tan</td><td>The Joy Luck Club</td><td>3.9</td></tr><tr><td>Marguerite Duras, Barbara Bray, Maxine Hong Kingston</td><td>The Lover</td><td>3.76</td></tr><tr><td>Sue Monk Kidd</td><td>The Mermaid Chair</td><td>3.1</td></tr><tr><td>Anita Shreve</td><td>The Pilot's Wife</td><td>3.5</td></tr><tr><td>Anita Diamant</td><td>The Red Tent</td><td>4.16</td></tr><tr><td>Nicholas Sparks</td><td>The Rescue</td><td>4.1</td></tr><tr><td>Annie Proulx</td><td>The Shipping News</td><td>3.83</td></tr><tr><td>Isabel Allende</td><td>The Stories of Eva Luna</td><td>3.96</td></tr><tr><td>Ann-Marie MacDonald</td><td>The Way the Crow Flies</td><td>4.08</td></tr><tr><td>Nicholas Sparks</td><td>The Wedding (The Notebook, #2)</td><td>3.98</td></tr><tr><td>Joan Didion</td><td>The Year of Magical Thinking</td><td>3.86</td></tr><tr><td>Ann Patchett</td><td>Truth and Beauty</td><td>3.94</td></tr><tr><td>Marian Keyes</td><td>Watermelon (Walsh Family, #1)</td><td>3.79</td></tr><tr><td>Beryl Markham</td><td>West with the Night</td><td>4.18</td></tr><tr><td>Pearl Cleage</td><td>What Looks Like Crazy on an Ordinary Day (Idlewild, #1)</td><td>3.7</td></tr><tr><td>Billie Letts</td><td>Where the Heart Is</td><td>4</td></tr><tr><td>Sue Miller</td><td>While I Was Gone</td><td>3.67</td></tr><tr><td>Zadie Smith</td><td>White Teeth</td><td>3.75</td></tr><tr><td>Geraldine Brooks</td><td>Year of Wonders</td><td>4</td></tr></table>"
                    },
                    "metadata": {}
                }
            ],
            "execution_count": 5
        },
        {
            "cell_type": "markdown",
            "source": [
                "### **Record your thoughts about why you wrote the query the way you did.**"
            ],
            "metadata": {
                "azdata_cell_guid": "1e19a72c-1bca-446b-a0c7-a8efbc35dcf1"
            },
            "attachments": {}
        },
        {
            "cell_type": "markdown",
            "source": [
                "# Part 2: Choose Another Month\n",
                "\n",
                "Choose another month and plan at least 2 events / promotions and answer the following questions.\n",
                "\n",
                "Which month did you choose?  \n",
                "\n",
                "What 2 events / promotions are you highlighting?\n",
                "\n",
                "> 1.December\n",
                "\n",
                "> 2.Christmas and December"
            ],
            "metadata": {
                "azdata_cell_guid": "3eaf376d-9de3-4553-a9d0-9caf74ee3d6a"
            },
            "attachments": {}
        },
        {
            "cell_type": "markdown",
            "source": [
                "# Part 3: Summarize your Work\n",
                "\n",
                "For each event write at least one query that joins any two tables in the BooksDB to support your choice and record you thoughts as to why you used the paticlular query. At least one of your queries needs to include a HAVING clause."
            ],
            "metadata": {
                "azdata_cell_guid": "1ba1363a-4f02-4962-a95a-93b80c5926b1"
            },
            "attachments": {}
        },
        {
            "cell_type": "code",
            "source": [
                "-- Event 1 Query\r\n",
                "\r\n",
                "SELECT bt.tag_id, t.tag_name, b.authors,b.title\r\n",
                "FROM  BooksDB.dbo.book_tags bt \r\n",
                "INNER join  BooksDB.dbo.tags t\r\n",
                "on bt.tag_id = t.tag_id\r\n",
                "INNER join BooksDB.dbo.books b\r\n",
                "on bt.goodreads_book_id = b.book_id\r\n",
                "WHERE\r\n",
                "t.tag_name like '%christmas%' \r\n",
                "ORDER BY (bt.tag_id)  \r\n",
                ""
            ],
            "metadata": {
                "azdata_cell_guid": "f50d32ce-4cb2-4af2-acb1-607777a76cf8",
                "language": "sql"
            },
            "outputs": [
                {
                    "output_type": "display_data",
                    "data": {
                        "text/html": "(200 rows affected)"
                    },
                    "metadata": {}
                },
                {
                    "output_type": "display_data",
                    "data": {
                        "text/html": "Total execution time: 00:02:04.343"
                    },
                    "metadata": {}
                },
                {
                    "output_type": "execute_result",
                    "execution_count": 32,
                    "data": {
                        "application/vnd.dataresource+json": {
                            "schema": {
                                "fields": [
                                    {
                                        "name": "tag_id"
                                    },
                                    {
                                        "name": "tag_name"
                                    },
                                    {
                                        "name": "authors"
                                    },
                                    {
                                        "name": "title"
                                    }
                                ]
                            },
                            "data": [
                                {
                                    "0": "6870",
                                    "1": "children-christmas",
                                    "2": "Barbara Shook Hazen, Robert Lewis May, Richard Scarry",
                                    "3": "Rudolph the Red-Nosed Reindeer"
                                },
                                {
                                    "0": "6870",
                                    "1": "children-christmas",
                                    "2": "Charles M. Schulz",
                                    "3": "A Charlie Brown Christmas"
                                },
                                {
                                    "0": "6966",
                                    "1": "childrens-christmas",
                                    "2": "Angela Elwell Hunt, Tim Jonke",
                                    "3": "The Tale of Three Trees"
                                },
                                {
                                    "0": "6967",
                                    "1": "childrens-christmas-books",
                                    "2": "Diane Muldrow",
                                    "3": "Frosty the Snowman (Frosty the Snowman)"
                                },
                                {
                                    "0": "7224",
                                    "1": "christmas",
                                    "2": "Barbara Shook Hazen, Robert Lewis May, Richard Scarry",
                                    "3": "Rudolph the Red-Nosed Reindeer"
                                },
                                {
                                    "0": "7224",
                                    "1": "christmas",
                                    "2": "J.D. Robb",
                                    "3": "Memory in Death (In Death, #22)"
                                },
                                {
                                    "0": "7224",
                                    "1": "christmas",
                                    "2": "James Patterson",
                                    "3": "Merry Christmas, Alex Cross (Alex Cross, #19)"
                                },
                                {
                                    "0": "7224",
                                    "1": "christmas",
                                    "2": "Anita Shreve",
                                    "3": "A Wedding in December"
                                },
                                {
                                    "0": "7224",
                                    "1": "christmas",
                                    "2": "Billie Letts",
                                    "3": "The Honk and Holler Opening Soon"
                                },
                                {
                                    "0": "7224",
                                    "1": "christmas",
                                    "2": "Laurie Notaro",
                                    "3": "The Idiot Girls' Action-Adventure Club: True Tales from a Magnificent and Clumsy Life"
                                },
                                {
                                    "0": "7224",
                                    "1": "christmas",
                                    "2": "Richard Paul Evans",
                                    "3": "The Christmas List"
                                },
                                {
                                    "0": "7224",
                                    "1": "christmas",
                                    "2": "Charles Dickens, Michael Slater",
                                    "3": "A Christmas Carol and Other Christmas Writings"
                                },
                                {
                                    "0": "7224",
                                    "1": "christmas",
                                    "2": "Danielle Steel",
                                    "3": "The Gift"
                                },
                                {
                                    "0": "7224",
                                    "1": "christmas",
                                    "2": "Christopher Moore",
                                    "3": "The Stupidest Angel: A Heartwarming Tale of Christmas Terror (Pine Cove, #3)"
                                },
                                {
                                    "0": "7224",
                                    "1": "christmas",
                                    "2": "Charles M. Schulz",
                                    "3": "A Charlie Brown Christmas"
                                },
                                {
                                    "0": "7224",
                                    "1": "christmas",
                                    "2": "Martha Grimes",
                                    "3": "The Man With a Load of Mischief (Richard Jury, #1)"
                                },
                                {
                                    "0": "7224",
                                    "1": "christmas",
                                    "2": "Dinah Bucholz",
                                    "3": "The Unofficial Harry Potter Cookbook: From Cauldron Cakes to Knickerbocker Glory--More Than 150 Magical Recipes for Wizards and Non-Wizards Alike (Unofficial Cookbook)"
                                },
                                {
                                    "0": "7224",
                                    "1": "christmas",
                                    "2": "Raymond Briggs",
                                    "3": "The Snowman"
                                },
                                {
                                    "0": "7224",
                                    "1": "christmas",
                                    "2": "Cecelia Ahern",
                                    "3": "The Gift"
                                },
                                {
                                    "0": "7224",
                                    "1": "christmas",
                                    "2": "Jan Brett",
                                    "3": "The Hat"
                                },
                                {
                                    "0": "7224",
                                    "1": "christmas",
                                    "2": "J.D. Robb",
                                    "3": "Festive in Death (In Death, #39)"
                                },
                                {
                                    "0": "7224",
                                    "1": "christmas",
                                    "2": "Jacqueline Winspear, Orlagh Cassidy",
                                    "3": "Among the Mad (Maisie Dobbs, #6)"
                                },
                                {
                                    "0": "7224",
                                    "1": "christmas",
                                    "2": "Caralyn Buehner, Mark Buehner",
                                    "3": "Snowmen at Night"
                                },
                                {
                                    "0": "7224",
                                    "1": "christmas",
                                    "2": "Yotam Ottolenghi",
                                    "3": "Plenty"
                                },
                                {
                                    "0": "7224",
                                    "1": "christmas",
                                    "2": "James Patterson, Richard DiLallo",
                                    "3": "The Christmas Wedding"
                                },
                                {
                                    "0": "7224",
                                    "1": "christmas",
                                    "2": "Jacqueline Briggs Martin, Mary Azarian",
                                    "3": "Snowflake Bentley"
                                },
                                {
                                    "0": "7224",
                                    "1": "christmas",
                                    "2": "Orson Scott Card",
                                    "3": "A War of Gifts (Ender's Saga, #1.1)"
                                },
                                {
                                    "0": "7224",
                                    "1": "christmas",
                                    "2": "Catherine Bybee",
                                    "3": "Not Quite Dating (Not Quite, #1)"
                                },
                                {
                                    "0": "7224",
                                    "1": "christmas",
                                    "2": "Lynsay Sands, Jeaniene Frost",
                                    "3": "The Bite Before Christmas (Argeneau, #15.5; Night Huntress, #6.5)"
                                },
                                {
                                    "0": "7224",
                                    "1": "christmas",
                                    "2": "Charles Dickens",
                                    "3": "A Christmas Carol"
                                },
                                {
                                    "0": "7224",
                                    "1": "christmas",
                                    "2": "Dr. Seuss",
                                    "3": "How the Grinch Stole Christmas!"
                                },
                                {
                                    "0": "7224",
                                    "1": "christmas",
                                    "2": "Chris Van Allsburg",
                                    "3": "The Polar Express"
                                },
                                {
                                    "0": "7224",
                                    "1": "christmas",
                                    "2": "David Sedaris",
                                    "3": "Holidays on Ice"
                                },
                                {
                                    "0": "7224",
                                    "1": "christmas",
                                    "2": "Hans Christian Andersen, Rachel Isadora",
                                    "3": "The Little Match Girl"
                                },
                                {
                                    "0": "7224",
                                    "1": "christmas",
                                    "2": "Clement C. Moore, Jan Brett",
                                    "3": "The Night Before Christmas"
                                },
                                {
                                    "0": "7224",
                                    "1": "christmas",
                                    "2": "Donna VanLiere",
                                    "3": "The Christmas Shoes (Christmas Hope #1)"
                                },
                                {
                                    "0": "7224",
                                    "1": "christmas",
                                    "2": "Angela Elwell Hunt, Tim Jonke",
                                    "3": "The Tale of Three Trees"
                                },
                                {
                                    "0": "7224",
                                    "1": "christmas",
                                    "2": "O. Henry, Lisbeth Zwerger",
                                    "3": "The Gift of the Magi"
                                },
                                {
                                    "0": "7224",
                                    "1": "christmas",
                                    "2": "John Grisham",
                                    "3": "Skipping Christmas"
                                },
                                {
                                    "0": "7224",
                                    "1": "christmas",
                                    "2": "John Green, Maureen Johnson, Lauren Myracle",
                                    "3": "Let It Snow: Three Holiday Romances"
                                },
                                {
                                    "0": "7224",
                                    "1": "christmas",
                                    "2": "Jan Brett",
                                    "3": "The Mitten"
                                },
                                {
                                    "0": "7224",
                                    "1": "christmas",
                                    "2": "Glenn Beck",
                                    "3": "The Christmas Sweater"
                                },
                                {
                                    "0": "7224",
                                    "1": "christmas",
                                    "2": "Rachel Cohn, David Levithan",
                                    "3": "Dash & Lily's Book of Dares (Dash & Lily, #1)"
                                },
                                {
                                    "0": "7224",
                                    "1": "christmas",
                                    "2": "Charles Dickens, Katharine Kroeber Wiley",
                                    "3": "A Christmas Carol, The Chimes and The Cricket on the Hearth"
                                },
                                {
                                    "0": "7224",
                                    "1": "christmas",
                                    "2": "Laura Joffe Numeroff, Felicia Bond",
                                    "3": "If You Take a Mouse to the Movies"
                                },
                                {
                                    "0": "7224",
                                    "1": "christmas",
                                    "2": "Margery Williams Bianco, William   Nicholson",
                                    "3": "The Velveteen Rabbit"
                                },
                                {
                                    "0": "7224",
                                    "1": "christmas",
                                    "2": "Rainbow Rowell",
                                    "3": "Landline"
                                },
                                {
                                    "0": "7224",
                                    "1": "christmas",
                                    "2": "Richard Paul Evans",
                                    "3": "The Christmas Box (The Christmas Box, #1)"
                                },
                                {
                                    "0": "7224",
                                    "1": "christmas",
                                    "2": "Ezra Jack Keats",
                                    "3": "The Snowy Day"
                                },
                                {
                                    "0": "7224",
                                    "1": "christmas",
                                    "2": "Elin Hilderbrand",
                                    "3": "Winter Stroll (Winter #2)"
                                },
                                {
                                    "0": "7224",
                                    "1": "christmas",
                                    "2": "Jeff Kinney",
                                    "3": "Cabin Fever (Diary of a Wimpy Kid, #6)"
                                },
                                {
                                    "0": "7224",
                                    "1": "christmas",
                                    "2": "Diane Muldrow",
                                    "3": "Frosty the Snowman (Frosty the Snowman)"
                                },
                                {
                                    "0": "7224",
                                    "1": "christmas",
                                    "2": "Rosamunde Pilcher",
                                    "3": "Winter Solstice"
                                },
                                {
                                    "0": "7224",
                                    "1": "christmas",
                                    "2": "Joe Hill",
                                    "3": "NOS4A2"
                                },
                                {
                                    "0": "7224",
                                    "1": "christmas",
                                    "2": "Janet Evanovich",
                                    "3": "Visions of Sugar Plums (Stephanie Plum, #8.5)"
                                },
                                {
                                    "0": "7224",
                                    "1": "christmas",
                                    "2": "Agatha Christie",
                                    "3": "Hercule Poirot's Christmas (Hercule Poirot, #20)"
                                },
                                {
                                    "0": "7224",
                                    "1": "christmas",
                                    "2": "Terry Pratchett",
                                    "3": "Hogfather (Discworld, #20; Death, #4)"
                                },
                                {
                                    "0": "7224",
                                    "1": "christmas",
                                    "2": "Stephanie Perkins, Holly Black, Ally Carter, Matt de la Pena, Gayle Forman, Jenny Han, David Levithan, Kelly Link, Myra McEntire, Rainbow Rowell, Laini Taylor, Kiersten White",
                                    "3": "My True Love Gave to Me: Twelve Holiday Stories"
                                },
                                {
                                    "0": "7224",
                                    "1": "christmas",
                                    "2": "Richard Paul Evans",
                                    "3": "The Locket (The Locket, #1)"
                                },
                                {
                                    "0": "7224",
                                    "1": "christmas",
                                    "2": "David Sedaris",
                                    "3": "SantaLand Diaries"
                                },
                                {
                                    "0": "7224",
                                    "1": "christmas",
                                    "2": "Max Lucado",
                                    "3": "You Are Special (Wemmicksville, #1)"
                                },
                                {
                                    "0": "7224",
                                    "1": "christmas",
                                    "2": "Susan Cooper",
                                    "3": "The Dark Is Rising (The Dark is Rising, #2)"
                                },
                                {
                                    "0": "7224",
                                    "1": "christmas",
                                    "2": "Barbara Robinson",
                                    "3": "The Best Christmas Pageant Ever (The Herdmans #1)"
                                },
                                {
                                    "0": "7224",
                                    "1": "christmas",
                                    "2": "Jane Yolen, John Schoenherr",
                                    "3": "Owl Moon"
                                },
                                {
                                    "0": "7224",
                                    "1": "christmas",
                                    "2": "Connie Willis",
                                    "3": "Doomsday Book (Oxford Time Travel, #1)"
                                },
                                {
                                    "0": "7224",
                                    "1": "christmas",
                                    "2": "Fannie Flagg",
                                    "3": "A Redbird Christmas"
                                },
                                {
                                    "0": "7224",
                                    "1": "christmas",
                                    "2": "Louise Penny",
                                    "3": "A Fatal Grace (Chief Inspector Armand Gamache, #2)"
                                },
                                {
                                    "0": "7224",
                                    "1": "christmas",
                                    "2": "Dodie Smith, Michael Dooling",
                                    "3": "The 101 Dalmatians (The Hundred and One Dalmatians, #1)"
                                },
                                {
                                    "0": "7224",
                                    "1": "christmas",
                                    "2": "Elin Hilderbrand",
                                    "3": "Winter Street (Winter, #1)"
                                },
                                {
                                    "0": "7224",
                                    "1": "christmas",
                                    "2": "Arnold Lobel",
                                    "3": "Frog and Toad All Year (Frog and Toad, #3)"
                                },
                                {
                                    "0": "7224",
                                    "1": "christmas",
                                    "2": "Louise Penny",
                                    "3": "How the Light Gets In (Chief Inspector Armand Gamache, #9)"
                                },
                                {
                                    "0": "7224",
                                    "1": "christmas",
                                    "2": "Jill Shalvis",
                                    "3": "Simply Irresistible (Lucky Harbor, #1)"
                                },
                                {
                                    "0": "7224",
                                    "1": "christmas",
                                    "2": "J. Lynn, Jennifer L. Armentrout",
                                    "3": "Frigid (Frigid, #1)"
                                },
                                {
                                    "0": "7224",
                                    "1": "christmas",
                                    "2": "Wally Lamb",
                                    "3": "Wishin' and Hopin'"
                                },
                                {
                                    "0": "7224",
                                    "1": "christmas",
                                    "2": "J.D. Robb",
                                    "3": "Holiday in Death (In Death, #7)"
                                },
                                {
                                    "0": "7224",
                                    "1": "christmas",
                                    "2": "Alan Bradley",
                                    "3": "I Am Half-Sick of Shadows (Flavia de Luce, #4)"
                                },
                                {
                                    "0": "7224",
                                    "1": "christmas",
                                    "2": "Jason F. Wright",
                                    "3": "The Wednesday Letters"
                                },
                                {
                                    "0": "7224",
                                    "1": "christmas",
                                    "2": "Jane Werner Watson, Corinne Malvern",
                                    "3": "Frosty the Snow Man"
                                },
                                {
                                    "0": "7224",
                                    "1": "christmas",
                                    "2": "David Baldacci",
                                    "3": "The Christmas Train"
                                },
                                {
                                    "0": "7225",
                                    "1": "christmas-2014",
                                    "2": "Barbara Shook Hazen, Robert Lewis May, Richard Scarry",
                                    "3": "Rudolph the Red-Nosed Reindeer"
                                },
                                {
                                    "0": "7225",
                                    "1": "christmas-2014",
                                    "2": "Richard Paul Evans",
                                    "3": "The Christmas List"
                                },
                                {
                                    "0": "7226",
                                    "1": "christmas-2016",
                                    "2": "Charles M. Schulz",
                                    "3": "A Charlie Brown Christmas"
                                },
                                {
                                    "0": "7226",
                                    "1": "christmas-2016",
                                    "2": "Elin Hilderbrand",
                                    "3": "Winter Stroll (Winter #2)"
                                },
                                {
                                    "0": "7227",
                                    "1": "christmas-book",
                                    "2": "Richard Paul Evans",
                                    "3": "The Christmas List"
                                },
                                {
                                    "0": "7228",
                                    "1": "christmas-books",
                                    "2": "Caralyn Buehner, Mark Buehner",
                                    "3": "Snowmen at Night"
                                },
                                {
                                    "0": "7228",
                                    "1": "christmas-books",
                                    "2": "Barbara Robinson",
                                    "3": "The Best Christmas Pageant Ever (The Herdmans #1)"
                                },
                                {
                                    "0": "7228",
                                    "1": "christmas-books",
                                    "2": "Elin Hilderbrand",
                                    "3": "Winter Street (Winter, #1)"
                                },
                                {
                                    "0": "7228",
                                    "1": "christmas-books",
                                    "2": "Cecelia Ahern",
                                    "3": "The Gift"
                                },
                                {
                                    "0": "7228",
                                    "1": "christmas-books",
                                    "2": "Jane Werner Watson, Corinne Malvern",
                                    "3": "Frosty the Snow Man"
                                },
                                {
                                    "0": "7228",
                                    "1": "christmas-books",
                                    "2": "Hans Christian Andersen, Rachel Isadora",
                                    "3": "The Little Match Girl"
                                },
                                {
                                    "0": "7228",
                                    "1": "christmas-books",
                                    "2": "Richard Paul Evans",
                                    "3": "The Christmas Box (The Christmas Box, #1)"
                                },
                                {
                                    "0": "7228",
                                    "1": "christmas-books",
                                    "2": "Barbara Shook Hazen, Robert Lewis May, Richard Scarry",
                                    "3": "Rudolph the Red-Nosed Reindeer"
                                },
                                {
                                    "0": "7228",
                                    "1": "christmas-books",
                                    "2": "Donna VanLiere",
                                    "3": "The Christmas Shoes (Christmas Hope #1)"
                                },
                                {
                                    "0": "7228",
                                    "1": "christmas-books",
                                    "2": "John Grisham",
                                    "3": "Skipping Christmas"
                                },
                                {
                                    "0": "7228",
                                    "1": "christmas-books",
                                    "2": "Laura Joffe Numeroff, Felicia Bond",
                                    "3": "If You Take a Mouse to the Movies"
                                },
                                {
                                    "0": "7228",
                                    "1": "christmas-books",
                                    "2": "Glenn Beck",
                                    "3": "The Christmas Sweater"
                                },
                                {
                                    "0": "7228",
                                    "1": "christmas-books",
                                    "2": "Angela Elwell Hunt, Tim Jonke",
                                    "3": "The Tale of Three Trees"
                                },
                                {
                                    "0": "7228",
                                    "1": "christmas-books",
                                    "2": "O. Henry, Lisbeth Zwerger",
                                    "3": "The Gift of the Magi"
                                },
                                {
                                    "0": "7228",
                                    "1": "christmas-books",
                                    "2": "James Patterson, Richard DiLallo",
                                    "3": "The Christmas Wedding"
                                },
                                {
                                    "0": "7228",
                                    "1": "christmas-books",
                                    "2": "Clement C. Moore, Jan Brett",
                                    "3": "The Night Before Christmas"
                                },
                                {
                                    "0": "7228",
                                    "1": "christmas-books",
                                    "2": "Chris Van Allsburg",
                                    "3": "The Polar Express"
                                },
                                {
                                    "0": "7228",
                                    "1": "christmas-books",
                                    "2": "Richard Paul Evans",
                                    "3": "The Locket (The Locket, #1)"
                                },
                                {
                                    "0": "7228",
                                    "1": "christmas-books",
                                    "2": "Raymond Briggs",
                                    "3": "The Snowman"
                                },
                                {
                                    "0": "7228",
                                    "1": "christmas-books",
                                    "2": "David Baldacci",
                                    "3": "The Christmas Train"
                                },
                                {
                                    "0": "7228",
                                    "1": "christmas-books",
                                    "2": "Charles M. Schulz",
                                    "3": "A Charlie Brown Christmas"
                                },
                                {
                                    "0": "7228",
                                    "1": "christmas-books",
                                    "2": "Richard Paul Evans",
                                    "3": "The Christmas List"
                                },
                                {
                                    "0": "7228",
                                    "1": "christmas-books",
                                    "2": "Jan Brett",
                                    "3": "The Hat"
                                },
                                {
                                    "0": "7228",
                                    "1": "christmas-books",
                                    "2": "Agatha Christie",
                                    "3": "Hercule Poirot's Christmas (Hercule Poirot, #20)"
                                },
                                {
                                    "0": "7228",
                                    "1": "christmas-books",
                                    "2": "Rosamunde Pilcher",
                                    "3": "Winter Solstice"
                                },
                                {
                                    "0": "7228",
                                    "1": "christmas-books",
                                    "2": "Wally Lamb",
                                    "3": "Wishin' and Hopin'"
                                },
                                {
                                    "0": "7228",
                                    "1": "christmas-books",
                                    "2": "Stephanie Perkins, Holly Black, Ally Carter, Matt de la Pena, Gayle Forman, Jenny Han, David Levithan, Kelly Link, Myra McEntire, Rainbow Rowell, Laini Taylor, Kiersten White",
                                    "3": "My True Love Gave to Me: Twelve Holiday Stories"
                                },
                                {
                                    "0": "7228",
                                    "1": "christmas-books",
                                    "2": "Fannie Flagg",
                                    "3": "A Redbird Christmas"
                                },
                                {
                                    "0": "7228",
                                    "1": "christmas-books",
                                    "2": "Charles Dickens, Michael Slater",
                                    "3": "A Christmas Carol and Other Christmas Writings"
                                },
                                {
                                    "0": "7228",
                                    "1": "christmas-books",
                                    "2": "Christopher Moore",
                                    "3": "The Stupidest Angel: A Heartwarming Tale of Christmas Terror (Pine Cove, #3)"
                                },
                                {
                                    "0": "7228",
                                    "1": "christmas-books",
                                    "2": "Charles Dickens, Katharine Kroeber Wiley",
                                    "3": "A Christmas Carol, The Chimes and The Cricket on the Hearth"
                                },
                                {
                                    "0": "7228",
                                    "1": "christmas-books",
                                    "2": "Rachel Cohn, David Levithan",
                                    "3": "Dash & Lily's Book of Dares (Dash & Lily, #1)"
                                },
                                {
                                    "0": "7228",
                                    "1": "christmas-books",
                                    "2": "Jan Brett",
                                    "3": "The Mitten"
                                },
                                {
                                    "0": "7228",
                                    "1": "christmas-books",
                                    "2": "John Green, Maureen Johnson, Lauren Myracle",
                                    "3": "Let It Snow: Three Holiday Romances"
                                },
                                {
                                    "0": "7228",
                                    "1": "christmas-books",
                                    "2": "Elin Hilderbrand",
                                    "3": "Winter Stroll (Winter #2)"
                                },
                                {
                                    "0": "7228",
                                    "1": "christmas-books",
                                    "2": "David Sedaris",
                                    "3": "Holidays on Ice"
                                },
                                {
                                    "0": "7228",
                                    "1": "christmas-books",
                                    "2": "Dr. Seuss",
                                    "3": "How the Grinch Stole Christmas!"
                                },
                                {
                                    "0": "7228",
                                    "1": "christmas-books",
                                    "2": "Charles Dickens",
                                    "3": "A Christmas Carol"
                                },
                                {
                                    "0": "7229",
                                    "1": "christmas-books-i-have",
                                    "2": "Charles M. Schulz",
                                    "3": "A Charlie Brown Christmas"
                                },
                                {
                                    "0": "7230",
                                    "1": "christmas-children-s-books-i-own",
                                    "2": "Diane Muldrow",
                                    "3": "Frosty the Snowman (Frosty the Snowman)"
                                },
                                {
                                    "0": "7231",
                                    "1": "christmas-childrens-books",
                                    "2": "Diane Muldrow",
                                    "3": "Frosty the Snowman (Frosty the Snowman)"
                                },
                                {
                                    "0": "7232",
                                    "1": "christmas-collection",
                                    "2": "Jane Werner Watson, Corinne Malvern",
                                    "3": "Frosty the Snow Man"
                                },
                                {
                                    "0": "7233",
                                    "1": "christmas-favorites",
                                    "2": "Barbara Shook Hazen, Robert Lewis May, Richard Scarry",
                                    "3": "Rudolph the Red-Nosed Reindeer"
                                },
                                {
                                    "0": "7234",
                                    "1": "christmas-fiction",
                                    "2": "Glenn Beck",
                                    "3": "The Christmas Sweater"
                                },
                                {
                                    "0": "7234",
                                    "1": "christmas-fiction",
                                    "2": "James Patterson, Richard DiLallo",
                                    "3": "The Christmas Wedding"
                                },
                                {
                                    "0": "7234",
                                    "1": "christmas-fiction",
                                    "2": "Richard Paul Evans",
                                    "3": "The Christmas List"
                                },
                                {
                                    "0": "7234",
                                    "1": "christmas-fiction",
                                    "2": "Fannie Flagg",
                                    "3": "A Redbird Christmas"
                                },
                                {
                                    "0": "7234",
                                    "1": "christmas-fiction",
                                    "2": "Richard Paul Evans",
                                    "3": "The Christmas Box (The Christmas Box, #1)"
                                },
                                {
                                    "0": "7235",
                                    "1": "christmas-holiday",
                                    "2": "Richard Paul Evans",
                                    "3": "The Christmas Box (The Christmas Box, #1)"
                                },
                                {
                                    "0": "7235",
                                    "1": "christmas-holiday",
                                    "2": "Richard Paul Evans",
                                    "3": "The Christmas List"
                                },
                                {
                                    "0": "7236",
                                    "1": "christmas-hope",
                                    "2": "Donna VanLiere",
                                    "3": "The Christmas Shoes (Christmas Hope #1)"
                                },
                                {
                                    "0": "7237",
                                    "1": "christmas-hope-series",
                                    "2": "Donna VanLiere",
                                    "3": "The Christmas Shoes (Christmas Hope #1)"
                                },
                                {
                                    "0": "7238",
                                    "1": "christmas-kids",
                                    "2": "Barbara Shook Hazen, Robert Lewis May, Richard Scarry",
                                    "3": "Rudolph the Red-Nosed Reindeer"
                                },
                                {
                                    "0": "7239",
                                    "1": "christmas-new-year",
                                    "2": "Barbara Shook Hazen, Robert Lewis May, Richard Scarry",
                                    "3": "Rudolph the Red-Nosed Reindeer"
                                },
                                {
                                    "0": "7240",
                                    "1": "christmas-read",
                                    "2": "Richard Paul Evans",
                                    "3": "The Christmas List"
                                },
                                {
                                    "0": "7241",
                                    "1": "christmas-reading",
                                    "2": "Fannie Flagg",
                                    "3": "A Redbird Christmas"
                                },
                                {
                                    "0": "7241",
                                    "1": "christmas-reading",
                                    "2": "Donna VanLiere",
                                    "3": "The Christmas Shoes (Christmas Hope #1)"
                                },
                                {
                                    "0": "7241",
                                    "1": "christmas-reading",
                                    "2": "Richard Paul Evans",
                                    "3": "The Christmas List"
                                },
                                {
                                    "0": "7242",
                                    "1": "christmas-reads",
                                    "2": "Richard Paul Evans",
                                    "3": "The Christmas Box (The Christmas Box, #1)"
                                },
                                {
                                    "0": "7242",
                                    "1": "christmas-reads",
                                    "2": "Stephanie Perkins, Holly Black, Ally Carter, Matt de la Pena, Gayle Forman, Jenny Han, David Levithan, Kelly Link, Myra McEntire, Rainbow Rowell, Laini Taylor, Kiersten White",
                                    "3": "My True Love Gave to Me: Twelve Holiday Stories"
                                },
                                {
                                    "0": "7242",
                                    "1": "christmas-reads",
                                    "2": "Donna VanLiere",
                                    "3": "The Christmas Shoes (Christmas Hope #1)"
                                },
                                {
                                    "0": "7242",
                                    "1": "christmas-reads",
                                    "2": "Wally Lamb",
                                    "3": "Wishin' and Hopin'"
                                },
                                {
                                    "0": "7242",
                                    "1": "christmas-reads",
                                    "2": "John Grisham",
                                    "3": "Skipping Christmas"
                                },
                                {
                                    "0": "7242",
                                    "1": "christmas-reads",
                                    "2": "Rachel Cohn, David Levithan",
                                    "3": "Dash & Lily's Book of Dares (Dash & Lily, #1)"
                                },
                                {
                                    "0": "7242",
                                    "1": "christmas-reads",
                                    "2": "David Baldacci",
                                    "3": "The Christmas Train"
                                },
                                {
                                    "0": "7242",
                                    "1": "christmas-reads",
                                    "2": "John Green, Maureen Johnson, Lauren Myracle",
                                    "3": "Let It Snow: Three Holiday Romances"
                                },
                                {
                                    "0": "7242",
                                    "1": "christmas-reads",
                                    "2": "Glenn Beck",
                                    "3": "The Christmas Sweater"
                                },
                                {
                                    "0": "7242",
                                    "1": "christmas-reads",
                                    "2": "Elin Hilderbrand",
                                    "3": "Winter Street (Winter, #1)"
                                },
                                {
                                    "0": "7242",
                                    "1": "christmas-reads",
                                    "2": "O. Henry, Lisbeth Zwerger",
                                    "3": "The Gift of the Magi"
                                },
                                {
                                    "0": "7242",
                                    "1": "christmas-reads",
                                    "2": "Richard Paul Evans",
                                    "3": "The Christmas List"
                                },
                                {
                                    "0": "7242",
                                    "1": "christmas-reads",
                                    "2": "Clement C. Moore, Jan Brett",
                                    "3": "The Night Before Christmas"
                                },
                                {
                                    "0": "7242",
                                    "1": "christmas-reads",
                                    "2": "Elin Hilderbrand",
                                    "3": "Winter Stroll (Winter #2)"
                                },
                                {
                                    "0": "7242",
                                    "1": "christmas-reads",
                                    "2": "Fannie Flagg",
                                    "3": "A Redbird Christmas"
                                },
                                {
                                    "0": "7242",
                                    "1": "christmas-reads",
                                    "2": "James Patterson, Richard DiLallo",
                                    "3": "The Christmas Wedding"
                                },
                                {
                                    "0": "7242",
                                    "1": "christmas-reads",
                                    "2": "Cecelia Ahern",
                                    "3": "The Gift"
                                },
                                {
                                    "0": "7243",
                                    "1": "christmas-stories",
                                    "2": "Chris Van Allsburg",
                                    "3": "The Polar Express"
                                },
                                {
                                    "0": "7243",
                                    "1": "christmas-stories",
                                    "2": "O. Henry, Lisbeth Zwerger",
                                    "3": "The Gift of the Magi"
                                },
                                {
                                    "0": "7243",
                                    "1": "christmas-stories",
                                    "2": "John Grisham",
                                    "3": "Skipping Christmas"
                                },
                                {
                                    "0": "7243",
                                    "1": "christmas-stories",
                                    "2": "Fannie Flagg",
                                    "3": "A Redbird Christmas"
                                },
                                {
                                    "0": "7243",
                                    "1": "christmas-stories",
                                    "2": "Donna VanLiere",
                                    "3": "The Christmas Shoes (Christmas Hope #1)"
                                },
                                {
                                    "0": "7243",
                                    "1": "christmas-stories",
                                    "2": "Barbara Robinson",
                                    "3": "The Best Christmas Pageant Ever (The Herdmans #1)"
                                },
                                {
                                    "0": "7243",
                                    "1": "christmas-stories",
                                    "2": "David Baldacci",
                                    "3": "The Christmas Train"
                                },
                                {
                                    "0": "7243",
                                    "1": "christmas-stories",
                                    "2": "Jane Werner Watson, Corinne Malvern",
                                    "3": "Frosty the Snow Man"
                                },
                                {
                                    "0": "7243",
                                    "1": "christmas-stories",
                                    "2": "Caralyn Buehner, Mark Buehner",
                                    "3": "Snowmen at Night"
                                },
                                {
                                    "0": "7243",
                                    "1": "christmas-stories",
                                    "2": "Hans Christian Andersen, Rachel Isadora",
                                    "3": "The Little Match Girl"
                                },
                                {
                                    "0": "7243",
                                    "1": "christmas-stories",
                                    "2": "Glenn Beck",
                                    "3": "The Christmas Sweater"
                                },
                                {
                                    "0": "7243",
                                    "1": "christmas-stories",
                                    "2": "Angela Elwell Hunt, Tim Jonke",
                                    "3": "The Tale of Three Trees"
                                },
                                {
                                    "0": "7243",
                                    "1": "christmas-stories",
                                    "2": "James Patterson, Richard DiLallo",
                                    "3": "The Christmas Wedding"
                                },
                                {
                                    "0": "7243",
                                    "1": "christmas-stories",
                                    "2": "Raymond Briggs",
                                    "3": "The Snowman"
                                },
                                {
                                    "0": "7243",
                                    "1": "christmas-stories",
                                    "2": "Charles M. Schulz",
                                    "3": "A Charlie Brown Christmas"
                                },
                                {
                                    "0": "7243",
                                    "1": "christmas-stories",
                                    "2": "Richard Paul Evans",
                                    "3": "The Christmas List"
                                },
                                {
                                    "0": "7243",
                                    "1": "christmas-stories",
                                    "2": "Wally Lamb",
                                    "3": "Wishin' and Hopin'"
                                },
                                {
                                    "0": "7243",
                                    "1": "christmas-stories",
                                    "2": "Clement C. Moore, Jan Brett",
                                    "3": "The Night Before Christmas"
                                },
                                {
                                    "0": "7243",
                                    "1": "christmas-stories",
                                    "2": "Barbara Shook Hazen, Robert Lewis May, Richard Scarry",
                                    "3": "Rudolph the Red-Nosed Reindeer"
                                },
                                {
                                    "0": "7243",
                                    "1": "christmas-stories",
                                    "2": "Richard Paul Evans",
                                    "3": "The Christmas Box (The Christmas Box, #1)"
                                },
                                {
                                    "0": "7244",
                                    "1": "christmas-story",
                                    "2": "Charles M. Schulz",
                                    "3": "A Charlie Brown Christmas"
                                },
                                {
                                    "0": "7244",
                                    "1": "christmas-story",
                                    "2": "Richard Paul Evans",
                                    "3": "The Christmas Box (The Christmas Box, #1)"
                                },
                                {
                                    "0": "7245",
                                    "1": "christmas-tbr",
                                    "2": "Donna VanLiere",
                                    "3": "The Christmas Shoes (Christmas Hope #1)"
                                },
                                {
                                    "0": "7246",
                                    "1": "christmas-theme",
                                    "2": "Richard Paul Evans",
                                    "3": "The Christmas List"
                                },
                                {
                                    "0": "7247",
                                    "1": "christmas-to-read",
                                    "2": "Richard Paul Evans",
                                    "3": "The Christmas List"
                                },
                                {
                                    "0": "7247",
                                    "1": "christmas-to-read",
                                    "2": "Glenn Beck",
                                    "3": "The Christmas Sweater"
                                },
                                {
                                    "0": "7248",
                                    "1": "christmas-winter",
                                    "2": "Raymond Briggs",
                                    "3": "The Snowman"
                                },
                                {
                                    "0": "7248",
                                    "1": "christmas-winter",
                                    "2": "Donna VanLiere",
                                    "3": "The Christmas Shoes (Christmas Hope #1)"
                                },
                                {
                                    "0": "7248",
                                    "1": "christmas-winter",
                                    "2": "Caralyn Buehner, Mark Buehner",
                                    "3": "Snowmen at Night"
                                },
                                {
                                    "0": "7248",
                                    "1": "christmas-winter",
                                    "2": "Barbara Shook Hazen, Robert Lewis May, Richard Scarry",
                                    "3": "Rudolph the Red-Nosed Reindeer"
                                },
                                {
                                    "0": "7249",
                                    "1": "christmas-wish-read-list",
                                    "2": "Robert Harling",
                                    "3": "Steel Magnolias (DPS Acting Edition)"
                                },
                                {
                                    "0": "14696",
                                    "1": "holiday-christmas",
                                    "2": "O. Henry, Lisbeth Zwerger",
                                    "3": "The Gift of the Magi"
                                },
                                {
                                    "0": "14696",
                                    "1": "holiday-christmas",
                                    "2": "David Baldacci",
                                    "3": "The Christmas Train"
                                },
                                {
                                    "0": "14696",
                                    "1": "holiday-christmas",
                                    "2": "Laura Joffe Numeroff, Felicia Bond",
                                    "3": "If You Take a Mouse to the Movies"
                                },
                                {
                                    "0": "14696",
                                    "1": "holiday-christmas",
                                    "2": "Barbara Shook Hazen, Robert Lewis May, Richard Scarry",
                                    "3": "Rudolph the Red-Nosed Reindeer"
                                },
                                {
                                    "0": "14696",
                                    "1": "holiday-christmas",
                                    "2": "Jane Werner Watson, Corinne Malvern",
                                    "3": "Frosty the Snow Man"
                                },
                                {
                                    "0": "14696",
                                    "1": "holiday-christmas",
                                    "2": "Richard Paul Evans",
                                    "3": "The Christmas Box (The Christmas Box, #1)"
                                },
                                {
                                    "0": "14696",
                                    "1": "holiday-christmas",
                                    "2": "Clement C. Moore, Jan Brett",
                                    "3": "The Night Before Christmas"
                                },
                                {
                                    "0": "14705",
                                    "1": "holidays-christmas",
                                    "2": "Elin Hilderbrand",
                                    "3": "Winter Stroll (Winter #2)"
                                },
                                {
                                    "0": "30633",
                                    "1": "to-read-christmas",
                                    "2": "Richard Paul Evans",
                                    "3": "The Christmas List"
                                },
                                {
                                    "0": "30633",
                                    "1": "to-read-christmas",
                                    "2": "Donna VanLiere",
                                    "3": "The Christmas Shoes (Christmas Hope #1)"
                                }
                            ]
                        },
                        "text/html": "<table><tr><th>tag_id</th><th>tag_name</th><th>authors</th><th>title</th></tr><tr><td>6870</td><td>children-christmas</td><td>Barbara Shook Hazen, Robert Lewis May, Richard Scarry</td><td>Rudolph the Red-Nosed Reindeer</td></tr><tr><td>6870</td><td>children-christmas</td><td>Charles M. Schulz</td><td>A Charlie Brown Christmas</td></tr><tr><td>6966</td><td>childrens-christmas</td><td>Angela Elwell Hunt, Tim Jonke</td><td>The Tale of Three Trees</td></tr><tr><td>6967</td><td>childrens-christmas-books</td><td>Diane Muldrow</td><td>Frosty the Snowman (Frosty the Snowman)</td></tr><tr><td>7224</td><td>christmas</td><td>Barbara Shook Hazen, Robert Lewis May, Richard Scarry</td><td>Rudolph the Red-Nosed Reindeer</td></tr><tr><td>7224</td><td>christmas</td><td>J.D. Robb</td><td>Memory in Death (In Death, #22)</td></tr><tr><td>7224</td><td>christmas</td><td>James Patterson</td><td>Merry Christmas, Alex Cross (Alex Cross, #19)</td></tr><tr><td>7224</td><td>christmas</td><td>Anita Shreve</td><td>A Wedding in December</td></tr><tr><td>7224</td><td>christmas</td><td>Billie Letts</td><td>The Honk and Holler Opening Soon</td></tr><tr><td>7224</td><td>christmas</td><td>Laurie Notaro</td><td>The Idiot Girls' Action-Adventure Club: True Tales from a Magnificent and Clumsy Life</td></tr><tr><td>7224</td><td>christmas</td><td>Richard Paul Evans</td><td>The Christmas List</td></tr><tr><td>7224</td><td>christmas</td><td>Charles Dickens, Michael Slater</td><td>A Christmas Carol and Other Christmas Writings</td></tr><tr><td>7224</td><td>christmas</td><td>Danielle Steel</td><td>The Gift</td></tr><tr><td>7224</td><td>christmas</td><td>Christopher Moore</td><td>The Stupidest Angel: A Heartwarming Tale of Christmas Terror (Pine Cove, #3)</td></tr><tr><td>7224</td><td>christmas</td><td>Charles M. Schulz</td><td>A Charlie Brown Christmas</td></tr><tr><td>7224</td><td>christmas</td><td>Martha Grimes</td><td>The Man With a Load of Mischief (Richard Jury, #1)</td></tr><tr><td>7224</td><td>christmas</td><td>Dinah Bucholz</td><td>The Unofficial Harry Potter Cookbook: From Cauldron Cakes to Knickerbocker Glory--More Than 150 Magical Recipes for Wizards and Non-Wizards Alike (Unofficial Cookbook)</td></tr><tr><td>7224</td><td>christmas</td><td>Raymond Briggs</td><td>The Snowman</td></tr><tr><td>7224</td><td>christmas</td><td>Cecelia Ahern</td><td>The Gift</td></tr><tr><td>7224</td><td>christmas</td><td>Jan Brett</td><td>The Hat</td></tr><tr><td>7224</td><td>christmas</td><td>J.D. Robb</td><td>Festive in Death (In Death, #39)</td></tr><tr><td>7224</td><td>christmas</td><td>Jacqueline Winspear, Orlagh Cassidy</td><td>Among the Mad (Maisie Dobbs, #6)</td></tr><tr><td>7224</td><td>christmas</td><td>Caralyn Buehner, Mark Buehner</td><td>Snowmen at Night</td></tr><tr><td>7224</td><td>christmas</td><td>Yotam Ottolenghi</td><td>Plenty</td></tr><tr><td>7224</td><td>christmas</td><td>James Patterson, Richard DiLallo</td><td>The Christmas Wedding</td></tr><tr><td>7224</td><td>christmas</td><td>Jacqueline Briggs Martin, Mary Azarian</td><td>Snowflake Bentley</td></tr><tr><td>7224</td><td>christmas</td><td>Orson Scott Card</td><td>A War of Gifts (Ender's Saga, #1.1)</td></tr><tr><td>7224</td><td>christmas</td><td>Catherine Bybee</td><td>Not Quite Dating (Not Quite, #1)</td></tr><tr><td>7224</td><td>christmas</td><td>Lynsay Sands, Jeaniene Frost</td><td>The Bite Before Christmas (Argeneau, #15.5; Night Huntress, #6.5)</td></tr><tr><td>7224</td><td>christmas</td><td>Charles Dickens</td><td>A Christmas Carol</td></tr><tr><td>7224</td><td>christmas</td><td>Dr. Seuss</td><td>How the Grinch Stole Christmas!</td></tr><tr><td>7224</td><td>christmas</td><td>Chris Van Allsburg</td><td>The Polar Express</td></tr><tr><td>7224</td><td>christmas</td><td>David Sedaris</td><td>Holidays on Ice</td></tr><tr><td>7224</td><td>christmas</td><td>Hans Christian Andersen, Rachel Isadora</td><td>The Little Match Girl</td></tr><tr><td>7224</td><td>christmas</td><td>Clement C. Moore, Jan Brett</td><td>The Night Before Christmas</td></tr><tr><td>7224</td><td>christmas</td><td>Donna VanLiere</td><td>The Christmas Shoes (Christmas Hope #1)</td></tr><tr><td>7224</td><td>christmas</td><td>Angela Elwell Hunt, Tim Jonke</td><td>The Tale of Three Trees</td></tr><tr><td>7224</td><td>christmas</td><td>O. Henry, Lisbeth Zwerger</td><td>The Gift of the Magi</td></tr><tr><td>7224</td><td>christmas</td><td>John Grisham</td><td>Skipping Christmas</td></tr><tr><td>7224</td><td>christmas</td><td>John Green, Maureen Johnson, Lauren Myracle</td><td>Let It Snow: Three Holiday Romances</td></tr><tr><td>7224</td><td>christmas</td><td>Jan Brett</td><td>The Mitten</td></tr><tr><td>7224</td><td>christmas</td><td>Glenn Beck</td><td>The Christmas Sweater</td></tr><tr><td>7224</td><td>christmas</td><td>Rachel Cohn, David Levithan</td><td>Dash &amp; Lily's Book of Dares (Dash &amp; Lily, #1)</td></tr><tr><td>7224</td><td>christmas</td><td>Charles Dickens, Katharine Kroeber Wiley</td><td>A Christmas Carol, The Chimes and The Cricket on the Hearth</td></tr><tr><td>7224</td><td>christmas</td><td>Laura Joffe Numeroff, Felicia Bond</td><td>If You Take a Mouse to the Movies</td></tr><tr><td>7224</td><td>christmas</td><td>Margery Williams Bianco, William   Nicholson</td><td>The Velveteen Rabbit</td></tr><tr><td>7224</td><td>christmas</td><td>Rainbow Rowell</td><td>Landline</td></tr><tr><td>7224</td><td>christmas</td><td>Richard Paul Evans</td><td>The Christmas Box (The Christmas Box, #1)</td></tr><tr><td>7224</td><td>christmas</td><td>Ezra Jack Keats</td><td>The Snowy Day</td></tr><tr><td>7224</td><td>christmas</td><td>Elin Hilderbrand</td><td>Winter Stroll (Winter #2)</td></tr><tr><td>7224</td><td>christmas</td><td>Jeff Kinney</td><td>Cabin Fever (Diary of a Wimpy Kid, #6)</td></tr><tr><td>7224</td><td>christmas</td><td>Diane Muldrow</td><td>Frosty the Snowman (Frosty the Snowman)</td></tr><tr><td>7224</td><td>christmas</td><td>Rosamunde Pilcher</td><td>Winter Solstice</td></tr><tr><td>7224</td><td>christmas</td><td>Joe Hill</td><td>NOS4A2</td></tr><tr><td>7224</td><td>christmas</td><td>Janet Evanovich</td><td>Visions of Sugar Plums (Stephanie Plum, #8.5)</td></tr><tr><td>7224</td><td>christmas</td><td>Agatha Christie</td><td>Hercule Poirot's Christmas (Hercule Poirot, #20)</td></tr><tr><td>7224</td><td>christmas</td><td>Terry Pratchett</td><td>Hogfather (Discworld, #20; Death, #4)</td></tr><tr><td>7224</td><td>christmas</td><td>Stephanie Perkins, Holly Black, Ally Carter, Matt de la Pena, Gayle Forman, Jenny Han, David Levithan, Kelly Link, Myra McEntire, Rainbow Rowell, Laini Taylor, Kiersten White</td><td>My True Love Gave to Me: Twelve Holiday Stories</td></tr><tr><td>7224</td><td>christmas</td><td>Richard Paul Evans</td><td>The Locket (The Locket, #1)</td></tr><tr><td>7224</td><td>christmas</td><td>David Sedaris</td><td>SantaLand Diaries</td></tr><tr><td>7224</td><td>christmas</td><td>Max Lucado</td><td>You Are Special (Wemmicksville, #1)</td></tr><tr><td>7224</td><td>christmas</td><td>Susan Cooper</td><td>The Dark Is Rising (The Dark is Rising, #2)</td></tr><tr><td>7224</td><td>christmas</td><td>Barbara Robinson</td><td>The Best Christmas Pageant Ever (The Herdmans #1)</td></tr><tr><td>7224</td><td>christmas</td><td>Jane Yolen, John Schoenherr</td><td>Owl Moon</td></tr><tr><td>7224</td><td>christmas</td><td>Connie Willis</td><td>Doomsday Book (Oxford Time Travel, #1)</td></tr><tr><td>7224</td><td>christmas</td><td>Fannie Flagg</td><td>A Redbird Christmas</td></tr><tr><td>7224</td><td>christmas</td><td>Louise Penny</td><td>A Fatal Grace (Chief Inspector Armand Gamache, #2)</td></tr><tr><td>7224</td><td>christmas</td><td>Dodie Smith, Michael Dooling</td><td>The 101 Dalmatians (The Hundred and One Dalmatians, #1)</td></tr><tr><td>7224</td><td>christmas</td><td>Elin Hilderbrand</td><td>Winter Street (Winter, #1)</td></tr><tr><td>7224</td><td>christmas</td><td>Arnold Lobel</td><td>Frog and Toad All Year (Frog and Toad, #3)</td></tr><tr><td>7224</td><td>christmas</td><td>Louise Penny</td><td>How the Light Gets In (Chief Inspector Armand Gamache, #9)</td></tr><tr><td>7224</td><td>christmas</td><td>Jill Shalvis</td><td>Simply Irresistible (Lucky Harbor, #1)</td></tr><tr><td>7224</td><td>christmas</td><td>J. Lynn, Jennifer L. Armentrout</td><td>Frigid (Frigid, #1)</td></tr><tr><td>7224</td><td>christmas</td><td>Wally Lamb</td><td>Wishin' and Hopin'</td></tr><tr><td>7224</td><td>christmas</td><td>J.D. Robb</td><td>Holiday in Death (In Death, #7)</td></tr><tr><td>7224</td><td>christmas</td><td>Alan Bradley</td><td>I Am Half-Sick of Shadows (Flavia de Luce, #4)</td></tr><tr><td>7224</td><td>christmas</td><td>Jason F. Wright</td><td>The Wednesday Letters</td></tr><tr><td>7224</td><td>christmas</td><td>Jane Werner Watson, Corinne Malvern</td><td>Frosty the Snow Man</td></tr><tr><td>7224</td><td>christmas</td><td>David Baldacci</td><td>The Christmas Train</td></tr><tr><td>7225</td><td>christmas-2014</td><td>Barbara Shook Hazen, Robert Lewis May, Richard Scarry</td><td>Rudolph the Red-Nosed Reindeer</td></tr><tr><td>7225</td><td>christmas-2014</td><td>Richard Paul Evans</td><td>The Christmas List</td></tr><tr><td>7226</td><td>christmas-2016</td><td>Charles M. Schulz</td><td>A Charlie Brown Christmas</td></tr><tr><td>7226</td><td>christmas-2016</td><td>Elin Hilderbrand</td><td>Winter Stroll (Winter #2)</td></tr><tr><td>7227</td><td>christmas-book</td><td>Richard Paul Evans</td><td>The Christmas List</td></tr><tr><td>7228</td><td>christmas-books</td><td>Caralyn Buehner, Mark Buehner</td><td>Snowmen at Night</td></tr><tr><td>7228</td><td>christmas-books</td><td>Barbara Robinson</td><td>The Best Christmas Pageant Ever (The Herdmans #1)</td></tr><tr><td>7228</td><td>christmas-books</td><td>Elin Hilderbrand</td><td>Winter Street (Winter, #1)</td></tr><tr><td>7228</td><td>christmas-books</td><td>Cecelia Ahern</td><td>The Gift</td></tr><tr><td>7228</td><td>christmas-books</td><td>Jane Werner Watson, Corinne Malvern</td><td>Frosty the Snow Man</td></tr><tr><td>7228</td><td>christmas-books</td><td>Hans Christian Andersen, Rachel Isadora</td><td>The Little Match Girl</td></tr><tr><td>7228</td><td>christmas-books</td><td>Richard Paul Evans</td><td>The Christmas Box (The Christmas Box, #1)</td></tr><tr><td>7228</td><td>christmas-books</td><td>Barbara Shook Hazen, Robert Lewis May, Richard Scarry</td><td>Rudolph the Red-Nosed Reindeer</td></tr><tr><td>7228</td><td>christmas-books</td><td>Donna VanLiere</td><td>The Christmas Shoes (Christmas Hope #1)</td></tr><tr><td>7228</td><td>christmas-books</td><td>John Grisham</td><td>Skipping Christmas</td></tr><tr><td>7228</td><td>christmas-books</td><td>Laura Joffe Numeroff, Felicia Bond</td><td>If You Take a Mouse to the Movies</td></tr><tr><td>7228</td><td>christmas-books</td><td>Glenn Beck</td><td>The Christmas Sweater</td></tr><tr><td>7228</td><td>christmas-books</td><td>Angela Elwell Hunt, Tim Jonke</td><td>The Tale of Three Trees</td></tr><tr><td>7228</td><td>christmas-books</td><td>O. Henry, Lisbeth Zwerger</td><td>The Gift of the Magi</td></tr><tr><td>7228</td><td>christmas-books</td><td>James Patterson, Richard DiLallo</td><td>The Christmas Wedding</td></tr><tr><td>7228</td><td>christmas-books</td><td>Clement C. Moore, Jan Brett</td><td>The Night Before Christmas</td></tr><tr><td>7228</td><td>christmas-books</td><td>Chris Van Allsburg</td><td>The Polar Express</td></tr><tr><td>7228</td><td>christmas-books</td><td>Richard Paul Evans</td><td>The Locket (The Locket, #1)</td></tr><tr><td>7228</td><td>christmas-books</td><td>Raymond Briggs</td><td>The Snowman</td></tr><tr><td>7228</td><td>christmas-books</td><td>David Baldacci</td><td>The Christmas Train</td></tr><tr><td>7228</td><td>christmas-books</td><td>Charles M. Schulz</td><td>A Charlie Brown Christmas</td></tr><tr><td>7228</td><td>christmas-books</td><td>Richard Paul Evans</td><td>The Christmas List</td></tr><tr><td>7228</td><td>christmas-books</td><td>Jan Brett</td><td>The Hat</td></tr><tr><td>7228</td><td>christmas-books</td><td>Agatha Christie</td><td>Hercule Poirot's Christmas (Hercule Poirot, #20)</td></tr><tr><td>7228</td><td>christmas-books</td><td>Rosamunde Pilcher</td><td>Winter Solstice</td></tr><tr><td>7228</td><td>christmas-books</td><td>Wally Lamb</td><td>Wishin' and Hopin'</td></tr><tr><td>7228</td><td>christmas-books</td><td>Stephanie Perkins, Holly Black, Ally Carter, Matt de la Pena, Gayle Forman, Jenny Han, David Levithan, Kelly Link, Myra McEntire, Rainbow Rowell, Laini Taylor, Kiersten White</td><td>My True Love Gave to Me: Twelve Holiday Stories</td></tr><tr><td>7228</td><td>christmas-books</td><td>Fannie Flagg</td><td>A Redbird Christmas</td></tr><tr><td>7228</td><td>christmas-books</td><td>Charles Dickens, Michael Slater</td><td>A Christmas Carol and Other Christmas Writings</td></tr><tr><td>7228</td><td>christmas-books</td><td>Christopher Moore</td><td>The Stupidest Angel: A Heartwarming Tale of Christmas Terror (Pine Cove, #3)</td></tr><tr><td>7228</td><td>christmas-books</td><td>Charles Dickens, Katharine Kroeber Wiley</td><td>A Christmas Carol, The Chimes and The Cricket on the Hearth</td></tr><tr><td>7228</td><td>christmas-books</td><td>Rachel Cohn, David Levithan</td><td>Dash &amp; Lily's Book of Dares (Dash &amp; Lily, #1)</td></tr><tr><td>7228</td><td>christmas-books</td><td>Jan Brett</td><td>The Mitten</td></tr><tr><td>7228</td><td>christmas-books</td><td>John Green, Maureen Johnson, Lauren Myracle</td><td>Let It Snow: Three Holiday Romances</td></tr><tr><td>7228</td><td>christmas-books</td><td>Elin Hilderbrand</td><td>Winter Stroll (Winter #2)</td></tr><tr><td>7228</td><td>christmas-books</td><td>David Sedaris</td><td>Holidays on Ice</td></tr><tr><td>7228</td><td>christmas-books</td><td>Dr. Seuss</td><td>How the Grinch Stole Christmas!</td></tr><tr><td>7228</td><td>christmas-books</td><td>Charles Dickens</td><td>A Christmas Carol</td></tr><tr><td>7229</td><td>christmas-books-i-have</td><td>Charles M. Schulz</td><td>A Charlie Brown Christmas</td></tr><tr><td>7230</td><td>christmas-children-s-books-i-own</td><td>Diane Muldrow</td><td>Frosty the Snowman (Frosty the Snowman)</td></tr><tr><td>7231</td><td>christmas-childrens-books</td><td>Diane Muldrow</td><td>Frosty the Snowman (Frosty the Snowman)</td></tr><tr><td>7232</td><td>christmas-collection</td><td>Jane Werner Watson, Corinne Malvern</td><td>Frosty the Snow Man</td></tr><tr><td>7233</td><td>christmas-favorites</td><td>Barbara Shook Hazen, Robert Lewis May, Richard Scarry</td><td>Rudolph the Red-Nosed Reindeer</td></tr><tr><td>7234</td><td>christmas-fiction</td><td>Glenn Beck</td><td>The Christmas Sweater</td></tr><tr><td>7234</td><td>christmas-fiction</td><td>James Patterson, Richard DiLallo</td><td>The Christmas Wedding</td></tr><tr><td>7234</td><td>christmas-fiction</td><td>Richard Paul Evans</td><td>The Christmas List</td></tr><tr><td>7234</td><td>christmas-fiction</td><td>Fannie Flagg</td><td>A Redbird Christmas</td></tr><tr><td>7234</td><td>christmas-fiction</td><td>Richard Paul Evans</td><td>The Christmas Box (The Christmas Box, #1)</td></tr><tr><td>7235</td><td>christmas-holiday</td><td>Richard Paul Evans</td><td>The Christmas Box (The Christmas Box, #1)</td></tr><tr><td>7235</td><td>christmas-holiday</td><td>Richard Paul Evans</td><td>The Christmas List</td></tr><tr><td>7236</td><td>christmas-hope</td><td>Donna VanLiere</td><td>The Christmas Shoes (Christmas Hope #1)</td></tr><tr><td>7237</td><td>christmas-hope-series</td><td>Donna VanLiere</td><td>The Christmas Shoes (Christmas Hope #1)</td></tr><tr><td>7238</td><td>christmas-kids</td><td>Barbara Shook Hazen, Robert Lewis May, Richard Scarry</td><td>Rudolph the Red-Nosed Reindeer</td></tr><tr><td>7239</td><td>christmas-new-year</td><td>Barbara Shook Hazen, Robert Lewis May, Richard Scarry</td><td>Rudolph the Red-Nosed Reindeer</td></tr><tr><td>7240</td><td>christmas-read</td><td>Richard Paul Evans</td><td>The Christmas List</td></tr><tr><td>7241</td><td>christmas-reading</td><td>Fannie Flagg</td><td>A Redbird Christmas</td></tr><tr><td>7241</td><td>christmas-reading</td><td>Donna VanLiere</td><td>The Christmas Shoes (Christmas Hope #1)</td></tr><tr><td>7241</td><td>christmas-reading</td><td>Richard Paul Evans</td><td>The Christmas List</td></tr><tr><td>7242</td><td>christmas-reads</td><td>Richard Paul Evans</td><td>The Christmas Box (The Christmas Box, #1)</td></tr><tr><td>7242</td><td>christmas-reads</td><td>Stephanie Perkins, Holly Black, Ally Carter, Matt de la Pena, Gayle Forman, Jenny Han, David Levithan, Kelly Link, Myra McEntire, Rainbow Rowell, Laini Taylor, Kiersten White</td><td>My True Love Gave to Me: Twelve Holiday Stories</td></tr><tr><td>7242</td><td>christmas-reads</td><td>Donna VanLiere</td><td>The Christmas Shoes (Christmas Hope #1)</td></tr><tr><td>7242</td><td>christmas-reads</td><td>Wally Lamb</td><td>Wishin' and Hopin'</td></tr><tr><td>7242</td><td>christmas-reads</td><td>John Grisham</td><td>Skipping Christmas</td></tr><tr><td>7242</td><td>christmas-reads</td><td>Rachel Cohn, David Levithan</td><td>Dash &amp; Lily's Book of Dares (Dash &amp; Lily, #1)</td></tr><tr><td>7242</td><td>christmas-reads</td><td>David Baldacci</td><td>The Christmas Train</td></tr><tr><td>7242</td><td>christmas-reads</td><td>John Green, Maureen Johnson, Lauren Myracle</td><td>Let It Snow: Three Holiday Romances</td></tr><tr><td>7242</td><td>christmas-reads</td><td>Glenn Beck</td><td>The Christmas Sweater</td></tr><tr><td>7242</td><td>christmas-reads</td><td>Elin Hilderbrand</td><td>Winter Street (Winter, #1)</td></tr><tr><td>7242</td><td>christmas-reads</td><td>O. Henry, Lisbeth Zwerger</td><td>The Gift of the Magi</td></tr><tr><td>7242</td><td>christmas-reads</td><td>Richard Paul Evans</td><td>The Christmas List</td></tr><tr><td>7242</td><td>christmas-reads</td><td>Clement C. Moore, Jan Brett</td><td>The Night Before Christmas</td></tr><tr><td>7242</td><td>christmas-reads</td><td>Elin Hilderbrand</td><td>Winter Stroll (Winter #2)</td></tr><tr><td>7242</td><td>christmas-reads</td><td>Fannie Flagg</td><td>A Redbird Christmas</td></tr><tr><td>7242</td><td>christmas-reads</td><td>James Patterson, Richard DiLallo</td><td>The Christmas Wedding</td></tr><tr><td>7242</td><td>christmas-reads</td><td>Cecelia Ahern</td><td>The Gift</td></tr><tr><td>7243</td><td>christmas-stories</td><td>Chris Van Allsburg</td><td>The Polar Express</td></tr><tr><td>7243</td><td>christmas-stories</td><td>O. Henry, Lisbeth Zwerger</td><td>The Gift of the Magi</td></tr><tr><td>7243</td><td>christmas-stories</td><td>John Grisham</td><td>Skipping Christmas</td></tr><tr><td>7243</td><td>christmas-stories</td><td>Fannie Flagg</td><td>A Redbird Christmas</td></tr><tr><td>7243</td><td>christmas-stories</td><td>Donna VanLiere</td><td>The Christmas Shoes (Christmas Hope #1)</td></tr><tr><td>7243</td><td>christmas-stories</td><td>Barbara Robinson</td><td>The Best Christmas Pageant Ever (The Herdmans #1)</td></tr><tr><td>7243</td><td>christmas-stories</td><td>David Baldacci</td><td>The Christmas Train</td></tr><tr><td>7243</td><td>christmas-stories</td><td>Jane Werner Watson, Corinne Malvern</td><td>Frosty the Snow Man</td></tr><tr><td>7243</td><td>christmas-stories</td><td>Caralyn Buehner, Mark Buehner</td><td>Snowmen at Night</td></tr><tr><td>7243</td><td>christmas-stories</td><td>Hans Christian Andersen, Rachel Isadora</td><td>The Little Match Girl</td></tr><tr><td>7243</td><td>christmas-stories</td><td>Glenn Beck</td><td>The Christmas Sweater</td></tr><tr><td>7243</td><td>christmas-stories</td><td>Angela Elwell Hunt, Tim Jonke</td><td>The Tale of Three Trees</td></tr><tr><td>7243</td><td>christmas-stories</td><td>James Patterson, Richard DiLallo</td><td>The Christmas Wedding</td></tr><tr><td>7243</td><td>christmas-stories</td><td>Raymond Briggs</td><td>The Snowman</td></tr><tr><td>7243</td><td>christmas-stories</td><td>Charles M. Schulz</td><td>A Charlie Brown Christmas</td></tr><tr><td>7243</td><td>christmas-stories</td><td>Richard Paul Evans</td><td>The Christmas List</td></tr><tr><td>7243</td><td>christmas-stories</td><td>Wally Lamb</td><td>Wishin' and Hopin'</td></tr><tr><td>7243</td><td>christmas-stories</td><td>Clement C. Moore, Jan Brett</td><td>The Night Before Christmas</td></tr><tr><td>7243</td><td>christmas-stories</td><td>Barbara Shook Hazen, Robert Lewis May, Richard Scarry</td><td>Rudolph the Red-Nosed Reindeer</td></tr><tr><td>7243</td><td>christmas-stories</td><td>Richard Paul Evans</td><td>The Christmas Box (The Christmas Box, #1)</td></tr><tr><td>7244</td><td>christmas-story</td><td>Charles M. Schulz</td><td>A Charlie Brown Christmas</td></tr><tr><td>7244</td><td>christmas-story</td><td>Richard Paul Evans</td><td>The Christmas Box (The Christmas Box, #1)</td></tr><tr><td>7245</td><td>christmas-tbr</td><td>Donna VanLiere</td><td>The Christmas Shoes (Christmas Hope #1)</td></tr><tr><td>7246</td><td>christmas-theme</td><td>Richard Paul Evans</td><td>The Christmas List</td></tr><tr><td>7247</td><td>christmas-to-read</td><td>Richard Paul Evans</td><td>The Christmas List</td></tr><tr><td>7247</td><td>christmas-to-read</td><td>Glenn Beck</td><td>The Christmas Sweater</td></tr><tr><td>7248</td><td>christmas-winter</td><td>Raymond Briggs</td><td>The Snowman</td></tr><tr><td>7248</td><td>christmas-winter</td><td>Donna VanLiere</td><td>The Christmas Shoes (Christmas Hope #1)</td></tr><tr><td>7248</td><td>christmas-winter</td><td>Caralyn Buehner, Mark Buehner</td><td>Snowmen at Night</td></tr><tr><td>7248</td><td>christmas-winter</td><td>Barbara Shook Hazen, Robert Lewis May, Richard Scarry</td><td>Rudolph the Red-Nosed Reindeer</td></tr><tr><td>7249</td><td>christmas-wish-read-list</td><td>Robert Harling</td><td>Steel Magnolias (DPS Acting Edition)</td></tr><tr><td>14696</td><td>holiday-christmas</td><td>O. Henry, Lisbeth Zwerger</td><td>The Gift of the Magi</td></tr><tr><td>14696</td><td>holiday-christmas</td><td>David Baldacci</td><td>The Christmas Train</td></tr><tr><td>14696</td><td>holiday-christmas</td><td>Laura Joffe Numeroff, Felicia Bond</td><td>If You Take a Mouse to the Movies</td></tr><tr><td>14696</td><td>holiday-christmas</td><td>Barbara Shook Hazen, Robert Lewis May, Richard Scarry</td><td>Rudolph the Red-Nosed Reindeer</td></tr><tr><td>14696</td><td>holiday-christmas</td><td>Jane Werner Watson, Corinne Malvern</td><td>Frosty the Snow Man</td></tr><tr><td>14696</td><td>holiday-christmas</td><td>Richard Paul Evans</td><td>The Christmas Box (The Christmas Box, #1)</td></tr><tr><td>14696</td><td>holiday-christmas</td><td>Clement C. Moore, Jan Brett</td><td>The Night Before Christmas</td></tr><tr><td>14705</td><td>holidays-christmas</td><td>Elin Hilderbrand</td><td>Winter Stroll (Winter #2)</td></tr><tr><td>30633</td><td>to-read-christmas</td><td>Richard Paul Evans</td><td>The Christmas List</td></tr><tr><td>30633</td><td>to-read-christmas</td><td>Donna VanLiere</td><td>The Christmas Shoes (Christmas Hope #1)</td></tr></table>"
                    },
                    "metadata": {}
                }
            ],
            "execution_count": 32
        },
        {
            "cell_type": "markdown",
            "source": [
                "### **Summary of event 1:**\n",
                "\n",
                "For this event, I would like to get the tag\\_id, tag\\_name, authors and title for a tag-name like \"christmas\".\n",
                "\n",
                "To achive this, I joined book\\_tags with tags table to get the tag\\_name, tag\\_id and then joined with books table to get the Authors and title. After joining the tables filtered the data for tag\\_name like \"december\"."
            ],
            "metadata": {
                "azdata_cell_guid": "3bc72d4c-077b-42d3-9528-9aff8e7b6cf3"
            },
            "attachments": {}
        },
        {
            "cell_type": "code",
            "source": [
                "-- Event 2 Query\r\n",
                "SELECT b.authors,b.title\r\n",
                "FROM  BooksDB.dbo.book_tags bt \r\n",
                "INNER join  BooksDB.dbo.tags t\r\n",
                "on bt.tag_id = t.tag_id\r\n",
                "INNER join BooksDB.dbo.books b\r\n",
                "on bt.goodreads_book_id = b.book_id\r\n",
                "WHERE\r\n",
                "t.tag_name like '%december%' \r\n",
                "GROUP BY b.authors,b.title\r\n",
                "HAVING upper(b.authors) like '%ABBI%'\r\n",
                ""
            ],
            "metadata": {
                "azdata_cell_guid": "dca0a98f-065f-4b0e-9d93-fcb01cad668c",
                "language": "sql"
            },
            "outputs": [
                {
                    "output_type": "display_data",
                    "data": {
                        "text/html": "(2 rows affected)"
                    },
                    "metadata": {}
                },
                {
                    "output_type": "display_data",
                    "data": {
                        "text/html": "Total execution time: 00:00:00.293"
                    },
                    "metadata": {}
                },
                {
                    "output_type": "execute_result",
                    "metadata": {},
                    "execution_count": 33,
                    "data": {
                        "application/vnd.dataresource+json": {
                            "schema": {
                                "fields": [
                                    {
                                        "name": "authors"
                                    },
                                    {
                                        "name": "title"
                                    }
                                ]
                            },
                            "data": [
                                {
                                    "0": "Abbi Glines",
                                    "1": "Misbehaving (Sea Breeze, #6)"
                                },
                                {
                                    "0": "Abbi Glines",
                                    "1": "You Were Mine (Rosemary Beach, #9)"
                                }
                            ]
                        },
                        "text/html": [
                            "<table>",
                            "<tr><th>authors</th><th>title</th></tr>",
                            "<tr><td>Abbi Glines</td><td>Misbehaving (Sea Breeze, #6)</td></tr>",
                            "<tr><td>Abbi Glines</td><td>You Were Mine (Rosemary Beach, #9)</td></tr>",
                            "</table>"
                        ]
                    }
                }
            ],
            "execution_count": 33
        },
        {
            "cell_type": "markdown",
            "source": [
                "### **Summary of event 2:**\n",
                "\n",
                "For the event 2, I would find out the titles which have a tag\\_name like \"december\" and author name like \"Abbi\".\n",
                "\n",
                "So I joined book\\_tags with tags table to get the tag\\_name and then joined with books table to get the Authors and title. After joining the tables filtered the data for tag\\_name like \"december\" and then I want to use the Having clause, so I used the Group by and Having to look for authors with name like \"Abbi\""
            ],
            "metadata": {
                "azdata_cell_guid": "99d518dc-cd8b-42d6-9a9d-708771c9aa99"
            },
            "attachments": {}
        }
    ]
}